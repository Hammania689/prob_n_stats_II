{
  "nbformat": 4,
  "nbformat_minor": 0,
  "metadata": {
    "colab": {
      "name": "Assignment 2.ipynb",
      "version": "0.3.2",
      "provenance": [],
      "collapsed_sections": []
    },
    "kernelspec": {
      "display_name": "Python 3",
      "language": "python",
      "name": "python3"
    }
  },
  "cells": [
    {
      "metadata": {
        "colab_type": "code",
        "outputId": "07910d0f-3bf9-49c3-fe24-2ed1afd7c04a",
        "id": "W8VjGGwbU3F5",
        "colab": {
          "base_uri": "https://localhost:8080/",
          "height": 55
        }
      },
      "cell_type": "code",
      "source": [
        "from google.colab import drive\n",
        "drive.mount('/content/drive')\n",
        "\n",
        "from pathlib import Path\n",
        "drive_path = Path(\"/content/drive/My Drive/__USM Course Notes, Etc/Prob n Stats II\")"
      ],
      "execution_count": 0,
      "outputs": [
        {
          "output_type": "stream",
          "text": [
            "Drive already mounted at /content/drive; to attempt to forcibly remount, call drive.mount(\"/content/drive\", force_remount=True).\n"
          ],
          "name": "stdout"
        }
      ]
    },
    {
      "metadata": {
        "id": "Wg_L97sAX-H6",
        "colab_type": "code",
        "outputId": "9956e886-055d-4b28-a668-24427eca0907",
        "colab": {
          "base_uri": "https://localhost:8080/",
          "height": 35
        }
      },
      "cell_type": "code",
      "source": [
        "cd '/content/drive/My Drive/__USM Course Notes, Etc/Prob n Stats II/chp8'"
      ],
      "execution_count": 0,
      "outputs": [
        {
          "output_type": "stream",
          "text": [
            "/content/drive/My Drive/__USM Course Notes, Etc/Prob n Stats II/chp8\n"
          ],
          "name": "stdout"
        }
      ]
    },
    {
      "metadata": {
        "id": "z6JvDB_JYQFm",
        "colab_type": "code",
        "outputId": "6b8771b6-4596-4d25-e021-b4e9921ea5c5",
        "colab": {
          "base_uri": "https://localhost:8080/",
          "height": 35
        }
      },
      "cell_type": "code",
      "source": [
        "ls # Ensure we are in the right directory"
      ],
      "execution_count": 0,
      "outputs": [
        {
          "output_type": "stream",
          "text": [
            " 8.1-10.png  'Assignment 2.ipynb'   helper.py   \u001b[0m\u001b[01;34mimages\u001b[0m/   \u001b[01;34m__pycache__\u001b[0m/\n"
          ],
          "name": "stdout"
        }
      ]
    },
    {
      "metadata": {
        "id": "s7EbN_BiUIMM",
        "colab_type": "text"
      },
      "cell_type": "markdown",
      "source": [
        "<center> ![Imgur](https://i.imgur.com/bpMJwLo.png)"
      ]
    },
    {
      "metadata": {
        "id": "bx3OJUeSUIMR",
        "colab_type": "text"
      },
      "cell_type": "markdown",
      "source": [
        "\n",
        "# *(a) Define the test statistic and critical region for $\\alpha = 0.05$. Sketch a figure showing the critical region*\n"
      ]
    },
    {
      "metadata": {
        "id": "2BgBZK2JUIMU",
        "colab_type": "text"
      },
      "cell_type": "markdown",
      "source": [
        "# $ n < 30$ and  $\\sigma$ is  unkown, so we use Student T  distribution\n",
        "\n",
        "$\\large test\\ statistic\\ t = \\frac{\\bar{X} - \\mu_{0}}{\\frac{s}{ \\sqrt{n}}}$\n",
        "\n",
        "$\\large critical\\ region:\\ t_{1 - \\alpha}(n - 1)$"
      ]
    },
    {
      "metadata": {
        "id": "EMBma7I_UIMZ",
        "colab_type": "code",
        "outputId": "66c66535-f948-4f93-f9ad-044b8f33be86",
        "colab": {
          "base_uri": "https://localhost:8080/",
          "height": 53
        }
      },
      "cell_type": "code",
      "source": [
        "from helper import *\n",
        "\n",
        "m0 = 5.70\n",
        "n = 8\n",
        "alpha = .05\n",
        "\n",
        "criticalRegion = scipy.stats.t.ppf(1 - alpha, n - 1)\n",
        "print(f\"Lower Bound of Critical Region: {criticalRegion} ≈ {criticalRegion:.4}\")\n",
        "\n",
        "criticalRegion = float(round(criticalRegion, 3))\n",
        "print(f\"Critical Region: [{criticalRegion}, {math.inf})\")\n"
      ],
      "execution_count": 0,
      "outputs": [
        {
          "output_type": "stream",
          "text": [
            "Lower Bound of Critical Region: 1.894578605061305 ≈ 1.895\n",
            "Critical Region: [1.895, inf)\n"
          ],
          "name": "stdout"
        }
      ]
    },
    {
      "metadata": {
        "id": "iCKjByk5UIMx",
        "colab_type": "text"
      },
      "cell_type": "markdown",
      "source": [
        "---\n",
        "# *(b) Calculate the value of the Test Statistic and support your claim from part (a)*"
      ]
    },
    {
      "metadata": {
        "id": "cefwPOzPUIMz",
        "colab_type": "code",
        "outputId": "e1c8263c-30e9-4d5f-ab9d-d54e7e153768",
        "colab": {
          "base_uri": "https://localhost:8080/",
          "height": 141
        }
      },
      "cell_type": "code",
      "source": [
        "# Load in sample data from problem\n",
        "samples = load_sample_data(8,1,10, display=True)\n",
        "\n",
        "# Calculate sample mean, sample variance and test statistic\n",
        "xBar = sample_mean(samples)\n",
        "s = sample_variance(samples) ** .5\n",
        "m0 = 5.70\n",
        "n = len(samples)\n",
        "testStat = (xBar - m0) / (s / n ** .5)\n",
        "\n",
        "# Display values\n",
        "print()\n",
        "print(\"==\"*15)\n",
        "print(f\"Sample Mean: {xBar}  ≈  {xBar:.5}\")\n",
        "print(f\"Sample Standard Deviation: {s}  ≈ {s:.4}\")\n",
        "print(f\"Test Statistic: {testStat}  ≈  {testStat:.5}\")\n",
        "\n",
        "# Round to the nearest thousanth\n",
        "xBar = round(xBar, 4)\n",
        "s = round(s, 4)\n",
        "testStat = round(testStat, 4)\n",
        "\n",
        "# xBar, s, testStat, criticalRegion "
      ],
      "execution_count": 0,
      "outputs": [
        {
          "output_type": "stream",
          "text": [
            "Loaded E8_1-10.txt sucessfully.\n",
            "[5.71 5.8  6.03 5.87 6.22 5.92 5.57 5.83]\n",
            "\n",
            "==============================\n",
            "Sample Mean: 5.86875  ≈  5.8688\n",
            "Sample Standard Deviation: 0.19737111526983148  ≈ 0.1974\n",
            "Test Statistic: 2.4182721805487803  ≈  2.4183\n"
          ],
          "name": "stdout"
        }
      ]
    },
    {
      "metadata": {
        "id": "n3o2HQ1FUIM7",
        "colab_type": "text"
      },
      "cell_type": "markdown",
      "source": [
        "<center> $\\large t \\approx 2.4183\\  and\\ is\\ within\\ rejection\\ region\\  [1.8946, \\infty) \\\\  \\large 1.895 < 2.4183 < \\infty$\n",
        "# *Therefore we reject $H_0$*"
      ]
    },
    {
      "metadata": {
        "id": "syLicq7YUIM9",
        "colab_type": "text"
      },
      "cell_type": "markdown",
      "source": [
        "---"
      ]
    },
    {
      "metadata": {
        "id": "QnENv-91UINB",
        "colab_type": "text"
      },
      "cell_type": "markdown",
      "source": [
        "# *(c) Approximate the p-value and provide its bounds*\n",
        "\n",
        "### *The p-value is the probability of obtaining the value of the test statistic or greater(or less than if negative). We use the Student T distribution to approximate this probability within the respected degrees of freedom.*\n",
        "\n",
        "<center>$\\Large P(\\ t(n-1) \\geq 2.183) \\\\ \\Large = P(\\ t(n-1) > 2.183) \\\\ \\Large = 1 - P(\\ t(n-1) \\leq 2.183) \\\\ \\Large = 1 - P(\\ t(n-1) < 2.183)$"
      ]
    },
    {
      "metadata": {
        "id": "rcKTIiP2UINF",
        "colab_type": "code",
        "outputId": "17688347-4e97-4520-d26f-9e1ff788fe0f",
        "colab": {
          "base_uri": "https://localhost:8080/",
          "height": 35
        }
      },
      "cell_type": "code",
      "source": [
        "pVal = 1 - scipy.stats.t.cdf(testStat, n - 1)\n",
        "print(f\"P-value: {pVal}  ≈  {pVal:.4}\")\n",
        "pVal = round(pVal,4)"
      ],
      "execution_count": 0,
      "outputs": [
        {
          "output_type": "stream",
          "text": [
            "P-value: 0.023103679733782467  ≈  0.0231\n"
          ],
          "name": "stdout"
        }
      ]
    },
    {
      "metadata": {
        "id": "w2e1_BpZUINQ",
        "colab_type": "text"
      },
      "cell_type": "markdown",
      "source": [
        "---\n",
        "<center> ![Imgur](https://i.imgur.com/hNsdZt9.png =500x) </center>"
      ]
    },
    {
      "metadata": {
        "id": "2mYF0uUsUINS",
        "colab_type": "code",
        "outputId": "679ed646-07b4-420e-bb0f-289316c8c2f2",
        "colab": {
          "base_uri": "https://localhost:8080/",
          "height": 88
        }
      },
      "cell_type": "code",
      "source": [
        "mD = 0\n",
        "n = 17\n",
        "alpha = .05\n",
        "\n",
        "# Load the data sample data from text file\n",
        "# Reshape array and \n",
        "samples = load_sample_data(8,1,12, True)\n",
        "samples = np.reshape(samples, (17, 3)).T\n",
        "\n",
        "# Split the data accordingly,\n",
        "# x = Distance Ball A\n",
        "# y = Distance Ball B\n",
        "# d = Correct difference ( dist A - dist B)\n",
        "x, y, d = (samples[0]), (samples[1]), (samples[2]) "
      ],
      "execution_count": 0,
      "outputs": [
        {
          "output_type": "stream",
          "text": [
            "Loaded E8_1-12.txt sucessfully.\n",
            "[265 252  13 272 276  -4 246 243   3 260 246  14 274 275  -1 263 246  17\n",
            " 255 244  11 258 245  13 276 259  17 274 260  14 274 267   7 269 267   2\n",
            " 244 251  -7 212 222 -10 235 235   0 254 255  -1 224 231  -7]\n"
          ],
          "name": "stdout"
        }
      ]
    },
    {
      "metadata": {
        "id": "457CGdUTUINk",
        "colab_type": "text"
      },
      "cell_type": "markdown",
      "source": [
        "## <center> *We are performing a paired t-test. Must take the difference to find distribution D.*\n",
        " <center> $\\large d_1 = x_1 - y_1, ... , d_n = x_n - y_n$\n",
        "\n",
        "  ## <center> *The formula for Test Statistic t looks awfully familar*\n",
        "  <center> $\\large test\\ statistic\\ t = \\frac{\\bar{d} - \\mu_d}{\\frac{s_d}{\\sqrt{n}}}$\n"
      ]
    },
    {
      "metadata": {
        "id": "Bl7XytA-UINm",
        "colab_type": "code",
        "outputId": "ac9c0808-5362-4053-df48-2bdb689fcc72",
        "colab": {
          "base_uri": "https://localhost:8080/",
          "height": 70
        }
      },
      "cell_type": "code",
      "source": [
        "# if difference is correct find sample mean/variance and test Statistic \n",
        "if (x - y).all() == d.all():\n",
        "    dBar = sample_mean(d)\n",
        "    dStd = sample_variance(d) ** .5\n",
        "    testStatistic = (dBar - mD) / (dStd / n ** .5)\n",
        "\n",
        "    # Print results\n",
        "    print(f\"Sample Mean: {dBar} ≈ {dBar:.4}\")\n",
        "    print(f\"Sample Standard Deviation: {dStd} ≈ {dStd:.4}\")\n",
        "    print(f\"Test Statistic = {testStatistic} ≈  {testStatistic:.4}\")\n",
        "    \n",
        "    # Round to approximations\n",
        "    dBar = round(dBar, 3)\n",
        "    dStd = round(dStd, 3)\n",
        "    testStatistic = round(testStatistic, 4)\n",
        "# dBar, dStd, testStatistic"
      ],
      "execution_count": 0,
      "outputs": [
        {
          "output_type": "stream",
          "text": [
            "Sample Mean: 4.764705882352941 ≈ 4.765\n",
            "Sample Standard Deviation: 9.086593226869367 ≈ 9.087\n",
            "Test Statistic = 2.162018826797583 ≈  2.162\n"
          ],
          "name": "stdout"
        }
      ]
    },
    {
      "metadata": {
        "id": "ETLcjAIsUINu",
        "colab_type": "text"
      },
      "cell_type": "markdown",
      "source": [
        "#### <center>*We need to compare test statistic t to $t_{1-\\alpha}(n-1)$, the critical region* "
      ]
    },
    {
      "metadata": {
        "id": "Tm1WyGbdUINv",
        "colab_type": "code",
        "outputId": "91ae34c7-da83-4f86-a5ed-58ec2dda55ee",
        "colab": {
          "base_uri": "https://localhost:8080/",
          "height": 53
        }
      },
      "cell_type": "code",
      "source": [
        "criticalRegion = scipy.stats.t.ppf(1 - alpha, n - 1)\n",
        "print(f\"Lower bound of Critical Region: {criticalRegion} ≈ {criticalRegion:.4}\")\n",
        "print(f\"Critical Region: [{criticalRegion:.4}, {math.inf})\")\n",
        "criticalRegion = round(criticalRegion, 3)"
      ],
      "execution_count": 0,
      "outputs": [
        {
          "output_type": "stream",
          "text": [
            "Lower bound of Critical Region: 1.74588367627624 ≈ 1.746\n",
            "Critical Region: [1.746, inf)\n"
          ],
          "name": "stdout"
        }
      ]
    },
    {
      "metadata": {
        "id": "2B0m20pvUIN1",
        "colab_type": "text"
      },
      "cell_type": "markdown",
      "source": [
        "<center> $\\large 2.162\\ is\\ within\\ critical\\ region\\ [1.746, \\infty) \\\\ \\Large Therefore\\ we\\ reject\\ H_0$"
      ]
    },
    {
      "metadata": {
        "id": "L-mR3LTwUIN2",
        "colab_type": "text"
      },
      "cell_type": "markdown",
      "source": [
        "---\n",
        "<center> ![Imgur](https://i.imgur.com/JK2rWwN.png?1 =500x) </center>"
      ]
    },
    {
      "metadata": {
        "id": "ttENoV5gUIN6",
        "colab_type": "text"
      },
      "cell_type": "markdown",
      "source": [
        "# *(a) Define the test statistic and critical region assuming the variances are equal*\n",
        "## <center> *Subcase II.B.I : Assume $\\sigma_{x}^2 = \\sigma_{y}^2$*\n",
        "\n",
        "\n",
        "</br></br>\n",
        "\n",
        "|$\\LARGE H_1$| $\\LARGE We\\ reject\\ H_0\\ if$|\n",
        "|----|:-----------------------:-|\n",
        "| $\\Large \\mu_x > \\mu_y$ | <center> $  t \\geq t_{\\alpha}(n + m -2)$|\n",
        "| $\\Large \\mu_x < \\mu_y$ | <center>$ t \\leq - t_{\\alpha}(n + m -2)$|\n",
        "| $\\Large \\mu_x \\neq \\mu_y$ | <center>$ |t| \\geq t_{\\frac{\\alpha}2}(n + m -2)$|\n",
        "\n",
        "\n",
        "<center>\n",
        "  \n",
        "</br></br>\n",
        "\n",
        "### *$ n < 30$ use Student T distribution FOOL!*\n",
        "$\\Large test\\ statistic\\ t = \\frac{\\bar{X} - \\bar{Y} }{S_{p} \\sqrt{\\frac{1}n + \\frac{1} m}} \\\\ \\small And\\ S_p = \\sqrt{ \\frac{(n-1)S_x^2 + (m -1)S_y^2}{n + m - 2} }$\n",
        "\n",
        "### *The lowerbound of our Critical region* **in this case $H_1 = (\\mu_X < \\mu_Y)$:**  \n",
        "$\\Large  -t_{\\alpha}(n + m -2) \\\\ \\Large = -t_{.05}(13 + 16 - 2)$\n"
      ]
    },
    {
      "metadata": {
        "id": "09nVIfyUUIN8",
        "colab_type": "code",
        "outputId": "5fbc1318-7b1f-42a0-b5fc-9ba7fb936ac8",
        "colab": {
          "base_uri": "https://localhost:8080/",
          "height": 53
        }
      },
      "cell_type": "code",
      "source": [
        "alpha = .05\n",
        "n = 13\n",
        "m = 16\n",
        "\n",
        "# Find Critical Region, as defined above\n",
        "criticalRegion = scipy.stats.t.ppf(alpha, n + m - 2)\n",
        "\n",
        "print(f\"Lower bound of Critical Region: {criticalRegion}  ≈ {criticalRegion:.4}\")\n",
        "print(f\"Critical Region: [{criticalRegion:.4}, {-math.inf})\")\n",
        "\n",
        "# Round accordingly\n",
        "criticalRegion = round(criticalRegion, 3)\n",
        "# criticalRegion # print to check rounding"
      ],
      "execution_count": 0,
      "outputs": [
        {
          "output_type": "stream",
          "text": [
            "Lower bound of Critical Region: -1.703288445722127  ≈ -1.703\n",
            "Critical Region: [-1.703, -inf)\n"
          ],
          "name": "stdout"
        }
      ]
    },
    {
      "metadata": {
        "id": "G-FVOt7KUIOF",
        "colab_type": "text"
      },
      "cell_type": "markdown",
      "source": [
        "# *(b) Given the values defined, Calculate the test statistic and state the conclusion on $H_0$*\n",
        "\n",
        "<center>\n",
        "$\\Large test\\ statistic\\ t = \\frac{\\bar{X} - \\bar{Y} }{S_{p} \\sqrt{\\frac{1}n + \\frac{1} m}} \\\\ \\small And\\ S_p = \\sqrt{ \\frac{(n-1)S_x^2 + (m -1)S_y^2}{n + m - 2} }$\n",
        "</center>"
      ]
    },
    {
      "metadata": {
        "id": "5h8nCe0oUIOG",
        "colab_type": "code",
        "outputId": "ade7a658-2a47-4344-9091-e1941ecba7d6",
        "colab": {
          "base_uri": "https://localhost:8080/",
          "height": 70
        }
      },
      "cell_type": "code",
      "source": [
        "# Defined values\n",
        "xBar = 72.9 \n",
        "xStd = 25.6\n",
        "yBar = 81.7\n",
        "yStd = 28.3\n",
        "\n",
        "# Calculate test stat\n",
        "sP = (((n-1) * xStd ** 2 + (m - 1) * yStd **2 )/ (n + m - 2)) ** .5\n",
        "testStat = (xBar - yBar) / (sP * (1/n + 1/m) ** .5)\n",
        "\n",
        "# Display Result and round accordingly\n",
        "print(f\"Pooled Standard Derivation: {sP} ≈ {sP:.4}\")\n",
        "print(f\"Test Statistic t: {testStat} ≈ {testStat:.3}\")\n",
        "testStat = round(testStat, 3)\n",
        "\n",
        "print(f\"Is the test stat within rejection region: {testStat < criticalRegion}\") \n",
        "# sP, testStat"
      ],
      "execution_count": 0,
      "outputs": [
        {
          "output_type": "stream",
          "text": [
            "Pooled Standard Derivation: 27.133190007811468 ≈ 27.13\n",
            "Test Statistic t: -0.8685893190338824 ≈ -0.869\n",
            "Is the test stat within rejection region: False\n"
          ],
          "name": "stdout"
        }
      ]
    },
    {
      "metadata": {
        "id": "ObdSIypWUIOM",
        "colab_type": "text"
      },
      "cell_type": "markdown",
      "source": [
        "<center> \n",
        " ### We fail to reject $H_0$ is not within reject region  $[-1.703, \\infty)$"
      ]
    },
    {
      "metadata": {
        "id": "5JMZJBgOUIOO",
        "colab_type": "text"
      },
      "cell_type": "markdown",
      "source": [
        "# *(c) Give the bounds for the p-value of this test*"
      ]
    },
    {
      "metadata": {
        "id": "GGF35TerUIOP",
        "colab_type": "code",
        "outputId": "680182e5-7da2-4701-fe6e-ac75d53081c6",
        "colab": {
          "base_uri": "https://localhost:8080/",
          "height": 53
        }
      },
      "cell_type": "code",
      "source": [
        "pBound = scipy.stats.t.cdf(testStat, n + m -2)\n",
        "print(f\"P-value: {pBound} ≈ {pBound:.5}\")\n",
        "\n",
        "testStat, (n + m -2)"
      ],
      "execution_count": 0,
      "outputs": [
        {
          "output_type": "stream",
          "text": [
            "P-value: 0.19625330562443638 ≈ 0.19625\n"
          ],
          "name": "stdout"
        },
        {
          "output_type": "execute_result",
          "data": {
            "text/plain": [
              "(-0.869, 27)"
            ]
          },
          "metadata": {
            "tags": []
          },
          "execution_count": 12
        }
      ]
    },
    {
      "metadata": {
        "id": "XXqJivKqJFyP",
        "colab_type": "text"
      },
      "cell_type": "markdown",
      "source": [
        "### *Formally given our p-value is approximately .19625, however we were asked a the boundary of our p-value. To find this we use our test statistic t and degrees of freedom as reference when looking at the t chart </br></br> Basically we are looking for the probability that we within the area between our test statistic and  critical region The Area between our test stat and critical region: *\n",
        "\n",
        "| Degrees of Freedom| $T_{.50}$| $T_{.25}$| $T_{.20}$|  $\\textbf T_{.15} $| $\\textbf  T_{.10}$| $T_{.05}$|\n",
        "|---|----|----|----|----|----|----|\n",
        "|27| 0.00|0.684 | 8.55|**1.057** | **1.314** | 1.703 |\n",
        "\n",
        "</br>\n",
        "\n",
        "<center> $ \\LARGE   P(T_{.05} < P < T_{.20}) $ \n",
        "\n",
        "\n",
        "  \n",
        "  </br>\n",
        " ![Imgur](https://i.imgur.com/4sbsItJ.png)\n",
        "</center>"
      ]
    },
    {
      "metadata": {
        "id": "WVwT63GWVsyK",
        "colab_type": "text"
      },
      "cell_type": "markdown",
      "source": [
        "----\n",
        "<center> ![Imgur](https://i.imgur.com/mGex54J.png =500x)  \n"
      ]
    },
    {
      "metadata": {
        "id": "y_VX8zN9ZwXh",
        "colab_type": "text"
      },
      "cell_type": "markdown",
      "source": [
        "## *(a) Test Null Hypothesis against one-sided alternative $\\mu_x > \\mu_y$*\n",
        "###<center>  *Subcase II.B.II : Cannot Assume $\\sigma_{x}^2 = \\sigma_{y}^2$*\n",
        "</br>\n",
        "\n",
        "|$\\LARGE H_1$| $\\LARGE We\\ reject\\ H_0\\ if$|\n",
        "|----|:-----------------------:-|\n",
        "| $\\Large \\mu_x > \\mu_y$ | <center> $  t \\geq t_{\\alpha}(r)$|\n",
        "| $\\Large \\mu_x < \\mu_y$ | <center>$ t \\leq - t_{\\alpha}(r)$|\n",
        "| $\\Large \\mu_x \\neq \\mu_y$ |<center> $ |t| \\geq t_{\\frac{\\alpha}2}(r)$|\n",
        "\n",
        "\n",
        "<center>\n",
        "   $ \\Large t = \\frac{\\bar{X} - \\bar{Y} }{\\sqrt{ \\frac{S^2_{x}}n +\\frac{S^2_{y}}m}} $  *,* \n",
        "  $\\Large r = \\frac{( \\frac{S^2_{x}}n +\\frac{S^2_{y}}m)^2}{ \\frac{1}{n-1}(\\frac{S^2_{x}}n)^2 +\\frac{1}{m-1}(\\frac{S^2_{y}}m)^2 } $"
      ]
    },
    {
      "metadata": {
        "id": "xQnSKGUwYoFk",
        "colab_type": "code",
        "outputId": "0117e4b8-2d81-4c01-deb3-0386ddc413cf",
        "colab": {
          "base_uri": "https://localhost:8080/",
          "height": 266
        }
      },
      "cell_type": "code",
      "source": [
        "# Load and split the data accordingly\n",
        "samples = load_sample_data(8,2,14)\n",
        "samples = np.reshape(samples, (19, 2)).T\n",
        "x, y = (samples[0]), (samples[1]) \n",
        "\n",
        "m = n = len(x)\n",
        "m, n\n",
        "alpha = .05 \n",
        "\n",
        "# Calculate Sample mean, std and test Statistic\n",
        "xBar, xStd = sample_mean(x), sample_variance(x) ** .5\n",
        "yBar, yStd = sample_mean(y), sample_variance(y) ** .5\n",
        "testStatistic = (xBar - yBar) / ( (xStd ** 2)/n + (yStd **2) /m) ** .5\n",
        "\n",
        "# Print results\n",
        "print(\"===\" * 10)\n",
        "print(f\"X Sample Mean: {xBar} ≈ {xBar:.4} \\nX Sample Standard Deviation: {xStd} ≈ {xStd:.4}\")\n",
        "print(f\"Y Sample Mean: {yBar} ≈ {yBar:.4} \\nY Sample Standard Deviation: {yStd} ≈ {yStd:.4}\")\n",
        "print(f\"\\nTest Statistic = {testStatistic} ≈  {testStatistic:.4}\")\n",
        "print(\"\\n\")\n",
        "\n",
        "# Implement Welches T test at r d.o.f\n",
        "r = (((xStd ** 2)/n + (yStd **2)/m) **2) / ( ((1/(n -1))* ((xStd ** 2)/n)** 2) + ((1/(m - 1))* ((yStd ** 2)/m) **2) )\n",
        "criticalRegion = scipy.stats.t.ppf(1 - alpha, r)\n",
        "\n",
        "print(f\"Lower bound of Critical Region: {criticalRegion} ≈ {criticalRegion:.5}\")\n",
        "print(f\"Critical Region: [{criticalRegion:.5}, {math.inf})\")\n",
        "criticalRegion = round(criticalRegion, 4)\n",
        "\n",
        "print(f\"\\nIs the test stat within rejection region: {testStat > criticalRegion}\") "
      ],
      "execution_count": 0,
      "outputs": [
        {
          "output_type": "stream",
          "text": [
            "Loaded E8_2-14.txt sucessfully.\n",
            "==============================\n",
            "X Sample Mean: 5.994736842105263 ≈ 5.995 \n",
            "X Sample Standard Deviation: 2.453393043705102 ≈ 2.453\n",
            "Y Sample Mean: 4.3921052631578945 ≈ 4.392 \n",
            "Y Sample Standard Deviation: 1.4062621019622212 ≈ 1.406\n",
            "\n",
            "Test Statistic = 2.4703290690886788 ≈  2.47\n",
            "\n",
            "\n",
            "Lower bound of Critical Region: 1.6997617211723555 ≈ 1.6998\n",
            "Critical Region: [1.6998, inf)\n",
            "\n",
            "Is the test stat within rejection region: False\n"
          ],
          "name": "stdout"
        }
      ]
    },
    {
      "metadata": {
        "id": "nz5l7qHOkLK5",
        "colab_type": "text"
      },
      "cell_type": "markdown",
      "source": [
        "### <center> *We fail to reject $H_0$ for  $t \\ngeq t_{\\alpha}(r)$*\n",
        "  \n",
        "  \n",
        "## *(b) Contstruct 2 boxplots to confirm (a)*\n",
        "\n"
      ]
    },
    {
      "metadata": {
        "id": "V52gOGCJky9w",
        "colab_type": "code",
        "outputId": "bbeabae5-62b0-4c4e-b50c-76e8201847d2",
        "colab": {
          "base_uri": "https://localhost:8080/",
          "height": 390
        }
      },
      "cell_type": "code",
      "source": [
        "minn = np.min(x)\n",
        "median = np.median(x)\n",
        "mx = np.max(x)\n",
        "qr1 = np.median(x[:13])\n",
        "qr3 = np.median(x[15:])\n",
        "IQR = (qr3 - qr1) \n",
        "low_fence = qr1 - (1.5  * IQR)\n",
        "up_fence = qr3 + (1.5 * IQR)\n",
        "\n",
        "print(\"X's Five Number Summary\")\n",
        "print(\"=\"*20)\n",
        "print(f\"Min: {minn}, \\nFirst Quartile: {qr1}, \\nMedian: {median}, \\nThird Quartile: {qr3}, \\nMaximum: {mx}\")\n",
        "print(f\"InterQuartile Range: {IQR:.5}\")\n",
        "print(f\"Lower Fence: {low_fence}\")\n",
        "print(f\"Upper Fence: {up_fence:.5}\")\n",
        "\n",
        "minn = np.min(y)\n",
        "median = np.median(y)\n",
        "mx = np.max(y)\n",
        "qr1 = np.median(y[:13])\n",
        "qr3 = np.median(y[15:])\n",
        "IQR = (qr3 - qr1) \n",
        "low_fence = qr1 - (1.5  * IQR)\n",
        "up_fence = qr3 + (1.5 * IQR)\n",
        "\n",
        "print(\"\\nY's Five Number Summary\")\n",
        "print(\"=\"*20)\n",
        "print(f\"Min: {minn}, \\nFirst Quartile: {qr1}, \\nMedian: {median}, \\nThird Quartile: {qr3}, \\nMaximum: {mx}\")\n",
        "print(f\"InterQuartile Range: {IQR:.5}\")\n",
        "print(f\"Lower Fence: {low_fence}\")\n",
        "print(f\"Upper Fence: {up_fence}\")\n",
        "\n"
      ],
      "execution_count": 0,
      "outputs": [
        {
          "output_type": "stream",
          "text": [
            "X's Five Number Summary\n",
            "====================\n",
            "Min: 2.7, \n",
            "First Quartile: 6.15, \n",
            "Median: 6.1, \n",
            "Third Quartile: 4.5, \n",
            "Maximum: 11.4\n",
            "InterQuartile Range: -1.65\n",
            "Lower Fence: 8.625\n",
            "Upper Fence: 2.025\n",
            "\n",
            "Y's Five Number Summary\n",
            "====================\n",
            "Min: 2.1, \n",
            "First Quartile: 5.0, \n",
            "Median: 4.8, \n",
            "Third Quartile: 4.125, \n",
            "Maximum: 6.45\n",
            "InterQuartile Range: -0.875\n",
            "Lower Fence: 6.3125\n",
            "Upper Fence: 2.8125\n"
          ],
          "name": "stdout"
        }
      ]
    },
    {
      "metadata": {
        "id": "OB8jwRmKkzg6",
        "colab_type": "text"
      },
      "cell_type": "markdown",
      "source": [
        "<center> ![Imgur](https://i.imgur.com/DJcVvWJ.png)"
      ]
    },
    {
      "metadata": {
        "id": "gy8VCjOFk32O",
        "colab_type": "text"
      },
      "cell_type": "markdown",
      "source": [
        "----\n",
        "<center> ![Imgur](https://i.imgur.com/BE7snIf.png?1 =500x)\n"
      ]
    },
    {
      "metadata": {
        "id": "5Jp732h_m--t",
        "colab_type": "text"
      },
      "cell_type": "markdown",
      "source": [
        "## *(a) Which hypothesis would you accept if the significance level is $\\alpha = 0.05$?*\n",
        "\n",
        "\n",
        "\n",
        "|$\\LARGE H_1$| $\\LARGE We\\ reject\\ H_0\\ if$|\n",
        "|----|:-----------------------:-|\n",
        "| $\\Large p > p_0$ | <center> $\\Large  z \\geq z_{\\alpha}$|\n",
        "| $\\Large p < p_0$ | <center>$\\Large z\\leq -z_{\\alpha}$|\n",
        "| $\\Large p \\neq p_0$ |<center> $\\Large |z| \\geq z_{\\frac{\\alpha}2}$|\n",
        "\n",
        "<center>\n",
        "  $\\Large \\hat{p} = \\frac{x}n, \\Large z = \\frac{\\hat{p} - p_0}{\\sqrt{ \\frac{p_0 (1-p_0)}n}}$"
      ]
    },
    {
      "metadata": {
        "id": "f3Cp6Huwo-vM",
        "colab_type": "code",
        "outputId": "1b60e436-5b87-424c-b1df-95ff87af5c77",
        "colab": {
          "base_uri": "https://localhost:8080/",
          "height": 106
        }
      },
      "cell_type": "code",
      "source": [
        "p = .75\n",
        "x = 273\n",
        "n = 390\n",
        "alpha = .05\n",
        "\n",
        "pHat = x/n \n",
        "print(f\"P-hat: {pHat}\")\n",
        "\n",
        "\n",
        "testStatistic = (pHat - p) / ( (p * (1 - p))/n) ** .5\n",
        "print(f\"Test Statistic: {testStatistic:.3}\")\n",
        "\n",
        "criticalRegion = scipy.stats.norm.ppf(alpha)\n",
        "print(f\"Critical Region: [{criticalRegion:.4}, {-math.inf})\")\n",
        "print(f\"\\nIs the test stat within rejection region: {testStat > criticalRegion}\") "
      ],
      "execution_count": 0,
      "outputs": [
        {
          "output_type": "stream",
          "text": [
            "P-hat: 0.7\n",
            "Test Statistic: -2.28\n",
            "Critical Region: [-1.645, -inf)\n",
            "\n",
            "Is the test stat within rejection region: True\n"
          ],
          "name": "stdout"
        }
      ]
    },
    {
      "metadata": {
        "id": "3YO7uUQTm-v-",
        "colab_type": "text"
      },
      "cell_type": "markdown",
      "source": [
        "### *<center> We reject $H_0$; $z < z_{\\alpha}; (-2.28 \\leq -.1645)$* \n",
        "  \n",
        "## *(b) Which hypothesis would you accept if the significance level is $\\alpha = 0.01$?*"
      ]
    },
    {
      "metadata": {
        "id": "drn_UwDItAQ1",
        "colab_type": "code",
        "outputId": "91b4f955-a6ff-4960-fa5c-b6cb7137348e",
        "colab": {
          "base_uri": "https://localhost:8080/",
          "height": 88
        }
      },
      "cell_type": "code",
      "source": [
        "alpha = .01\n",
        "testStatistic = (pHat - p) / ( (p * (1 - p))/n) ** .5\n",
        "print(f\"Test Statistic: {testStatistic:.3}\")\n",
        "\n",
        "criticalRegion = scipy.stats.norm.ppf(alpha)\n",
        "print(f\"Critical Region: [{criticalRegion:.4}, {-math.inf})\")\n",
        "print(f\"\\nIs the test stat within rejection region: {testStat < criticalRegion}\") "
      ],
      "execution_count": 0,
      "outputs": [
        {
          "output_type": "stream",
          "text": [
            "Test Statistic: -2.28\n",
            "Critical Region: [-2.326, -inf)\n",
            "\n",
            "Is the test stat within rejection region: False\n"
          ],
          "name": "stdout"
        }
      ]
    },
    {
      "metadata": {
        "id": "3o8xPEsJm9qv",
        "colab_type": "text"
      },
      "cell_type": "markdown",
      "source": [
        "### *<center> We fail to reject $H_0$; $z \\geq z_{\\alpha}; -2.28 \\geq -2.326$* \n",
        "  \n",
        "##*(c) Find the p-value for this test?*\n",
        "  \n",
        "<center>\n",
        "  $\\Large Find\\ P = P(Z < -2.28) \\\\\\Large  = P(Z > 2.28) \\\\\\Large= 1 - P(Z < 2.28)$\n",
        "\n",
        "  \n",
        "  </br>\n",
        "  ![Imgur](https://i.imgur.com/f6qSoyL.png )\n",
        "</center>"
      ]
    },
    {
      "metadata": {
        "id": "oPHDXm9Ommhe",
        "colab_type": "code",
        "outputId": "f142eb7c-2cde-4604-acc0-5744e9a77d97",
        "colab": {
          "base_uri": "https://localhost:8080/",
          "height": 35
        }
      },
      "cell_type": "code",
      "source": [
        "pVal = 1 - scipy.stats.norm.cdf(2.28)\n",
        "print(f\"P value: {pVal:.5}\")"
      ],
      "execution_count": 0,
      "outputs": [
        {
          "output_type": "stream",
          "text": [
            "P value: 0.011304\n"
          ],
          "name": "stdout"
        }
      ]
    }
  ]
}