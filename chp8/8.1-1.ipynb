{
 "cells": [
  {
   "cell_type": "code",
   "execution_count": 1,
   "metadata": {},
   "outputs": [],
   "source": [
    "from helper import *"
   ]
  },
  {
   "cell_type": "markdown",
   "metadata": {},
   "source": [
    "![alt text](images/8.1-1.png)"
   ]
  },
  {
   "cell_type": "markdown",
   "metadata": {},
   "source": [
    "# *A) Find the Rejection Region and the acceptance or rejection at 5% significane*"
   ]
  },
  {
   "cell_type": "code",
   "execution_count": 2,
   "metadata": {},
   "outputs": [],
   "source": [
    "m0 = 110\n",
    "xBar = 113.5\n",
    "s = 100 ** .5\n",
    "n = 16\n",
    "testStat = (xBar - m0) / (s / n ** .5)"
   ]
  },
  {
   "cell_type": "code",
   "execution_count": 42,
   "metadata": {},
   "outputs": [
    {
     "name": "stdout",
     "output_type": "stream",
     "text": [
      "Rejection region: [1.6449, inf]\n"
     ]
    },
    {
     "data": {
      "text/plain": [
       "True"
      ]
     },
     "execution_count": 42,
     "metadata": {},
     "output_type": "execute_result"
    }
   ],
   "source": [
    "# Find the Rejction Region with 95% certainity   \n",
    "areaOfSignificance = .05\n",
    "rejectionRegion = scipy.stats.t.ppf((1 - areaOfSignificance), 100000)\n",
    "print(f\"Rejection region: [{rejectionRegion:.5}, {math.inf}]\")\n",
    "\n",
    "# Our test statistic is not within the rejection region so we fail to reject Hyptothesis 0\n",
    "testStat < rejectionRegion "
   ]
  },
  {
   "cell_type": "markdown",
   "metadata": {},
   "source": [
    "# *B) Find the Rejection Region and the acceptance or rejection at 10% significane*"
   ]
  },
  {
   "cell_type": "code",
   "execution_count": 43,
   "metadata": {},
   "outputs": [
    {
     "name": "stdout",
     "output_type": "stream",
     "text": [
      "Rejection region: [1.2816, inf]\n"
     ]
    },
    {
     "data": {
      "text/plain": [
       "False"
      ]
     },
     "execution_count": 43,
     "metadata": {},
     "output_type": "execute_result"
    }
   ],
   "source": [
    "# Find the Rejction Region with 90% certainity   \n",
    "areaOfSignificance = .1\n",
    "rejectionRegion = scipy.stats.t.ppf((1 - areaOfSignificance), 100000)\n",
    "print(f\"Rejection region: [{rejectionRegion:.5}, {math.inf}]\")\n",
    "\n",
    "# Our test statistic is within the rejection region so we reject Hyptothesis 0\n",
    "testStat < rejectionRegion "
   ]
  },
  {
   "cell_type": "markdown",
   "metadata": {},
   "source": [
    "# *C) What is the p-value of this test?*\n",
    "\n",
    "$\\large Find\\ P(T < 1.4)$ "
   ]
  },
  {
   "cell_type": "code",
   "execution_count": 79,
   "metadata": {},
   "outputs": [
    {
     "name": "stdout",
     "output_type": "stream",
     "text": [
      "0.080758\n"
     ]
    }
   ],
   "source": [
    "pVal = 1 - scipy.stats.t.cdf(1.4, 100000)\n",
    "print(f\"{pVal:.5}\")"
   ]
  }
 ],
 "metadata": {
  "kernelspec": {
   "display_name": "Python 3",
   "language": "python",
   "name": "python3"
  },
  "language_info": {
   "codemirror_mode": {
    "name": "ipython",
    "version": 3
   },
   "file_extension": ".py",
   "mimetype": "text/x-python",
   "name": "python",
   "nbconvert_exporter": "python",
   "pygments_lexer": "ipython3",
   "version": "3.6.6"
  }
 },
 "nbformat": 4,
 "nbformat_minor": 2
}
