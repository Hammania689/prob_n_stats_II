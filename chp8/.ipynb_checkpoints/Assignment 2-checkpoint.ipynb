{
 "cells": [
  {
   "cell_type": "markdown",
   "metadata": {},
   "source": [
    "![alt text](images/8.1-10.png)"
   ]
  },
  {
   "cell_type": "markdown",
   "metadata": {},
   "source": [
    "# *(a) Define the test statistic and critical region for $\\alpha = 0.05$. Sketch a figure showing the critical region*\n",
    "---"
   ]
  },
  {
   "cell_type": "markdown",
   "metadata": {},
   "source": [
    " $\\large n < 30\\ and\\  \\sigma\\  is\\ unkown,\\ so\\ we\\ use\\ Student\\ T\\ distribution\\$\n",
    "\n",
    "$\\large test\\ statistic\\ t = \\frac{\\bar{X} - \\mu_{0}}{\\frac{s}{ \\sqrt{n}}}$\n",
    "\n",
    "$\\large critical\\ region:\\ t_{1 - \\alpha}(n - 1)$"
   ]
  },
  {
   "cell_type": "code",
   "execution_count": 1,
   "metadata": {},
   "outputs": [
    {
     "name": "stdout",
     "output_type": "stream",
     "text": [
      "Lower Bound of Critical Region: 1.894578605061305 ≈ 1.895\n",
      "Critical Region: [1.895, inf)\n"
     ]
    }
   ],
   "source": [
    "from helper import *\n",
    "\n",
    "m0 = 5.70\n",
    "n = 8\n",
    "alpha = .05\n",
    "\n",
    "criticalRegion = scipy.stats.t.ppf(1 - alpha, n - 1)\n",
    "print(f\"Lower Bound of Critical Region: {criticalRegion} ≈ {criticalRegion:.4}\")\n",
    "\n",
    "criticalRegion = float(round(criticalRegion, 3))\n",
    "print(f\"Critical Region: [{criticalRegion}, {math.inf})\")"
   ]
  },
  {
   "cell_type": "code",
   "execution_count": 2,
   "metadata": {},
   "outputs": [
    {
     "ename": "IndexError",
     "evalue": "list index out of range",
     "output_type": "error",
     "traceback": [
      "\u001b[0;31m---------------------------------------------------------------------\u001b[0m",
      "\u001b[0;31mIndexError\u001b[0m                          Traceback (most recent call last)",
      "\u001b[0;32m<ipython-input-2-3eb5155003e3>\u001b[0m in \u001b[0;36m<module>\u001b[0;34m()\u001b[0m\n\u001b[1;32m      4\u001b[0m \u001b[0;34m\u001b[0m\u001b[0m\n\u001b[1;32m      5\u001b[0m \u001b[0;34m\u001b[0m\u001b[0m\n\u001b[0;32m----> 6\u001b[0;31m \u001b[0mplt\u001b[0m\u001b[0;34m.\u001b[0m\u001b[0mfill_between\u001b[0m\u001b[0;34m(\u001b[0m\u001b[0mplt\u001b[0m\u001b[0;34m.\u001b[0m\u001b[0mlines\u001b[0m\u001b[0;34m[\u001b[0m\u001b[0;36m0\u001b[0m\u001b[0;34m]\u001b[0m\u001b[0;34m,\u001b[0m \u001b[0mplt\u001b[0m\u001b[0;34m.\u001b[0m\u001b[0mlines\u001b[0m\u001b[0;34m[\u001b[0m\u001b[0;36m1\u001b[0m\u001b[0;34m]\u001b[0m\u001b[0;34m)\u001b[0m\u001b[0;34m\u001b[0m\u001b[0m\n\u001b[0m",
      "\u001b[0;31mIndexError\u001b[0m: list index out of range"
     ]
    },
    {
     "data": {
      "image/png": "[encoded data removed]",
      "text/plain": [
       "<Figure size 432x288 with 1 Axes>"
      ]
     },
     "metadata": {},
     "output_type": "display_data"
    }
   ],
   "source": [
    "sns.set()\n",
    "np.random.seed(0)\n",
    "plt = sns.distplot(np.random.randn(100), kde=False, fit=scipy.stats.norm, hist=False)\n",
    "\n",
    "\n",
    "# plt.fill_between(plt.lines[0], plt.lines[1])"
   ]
  },
  {
   "cell_type": "markdown",
   "metadata": {},
   "source": [
    "---\n",
    "# *(b) Calculate the value of the Test Statistic and support your claim from part (a)*"
   ]
  },
  {
   "cell_type": "code",
   "execution_count": 3,
   "metadata": {},
   "outputs": [
    {
     "name": "stdout",
     "output_type": "stream",
     "text": [
      "Loaded E8_1-10.txt sucessfully.\n",
      "[5.71 5.8  6.03 5.87 6.22 5.92 5.57 5.83]\n",
      "\n",
      "==============================\n",
      "Sample Mean: 5.86875  ≈  5.8688\n",
      "Sample Standard Deviation: 0.19737111526983148  ≈ 0.1974\n",
      "Test Statistic: 2.4182721805487803  ≈  2.4183\n"
     ]
    }
   ],
   "source": [
    "# Load in sample data from problem\n",
    "samples = load_sample_data(8,1,10, display=True)\n",
    "\n",
    "# Calculate sample mean, sample variance and test statistic\n",
    "xBar = sample_mean(samples)\n",
    "s = sample_variance(samples) ** .5\n",
    "m0 = 5.70\n",
    "n = len(samples)\n",
    "testStat = (xBar - m0) / (s / n ** .5)\n",
    "\n",
    "# Display values\n",
    "print()\n",
    "print(\"==\"*15)\n",
    "print(f\"Sample Mean: {xBar}  ≈  {xBar:.5}\")\n",
    "print(f\"Sample Standard Deviation: {s}  ≈ {s:.4}\")\n",
    "print(f\"Test Statistic: {testStat}  ≈  {testStat:.5}\")\n",
    "\n",
    "# Round to the nearest thousanth\n",
    "xBar = round(xBar, 4)\n",
    "s = round(s, 4)\n",
    "testStat = round(testStat, 4)\n",
    "\n",
    "\n",
    "# xBar, s, testStat, criticalRegion "
   ]
  },
  {
   "cell_type": "markdown",
   "metadata": {},
   "source": [
    "$\\large t \\approx 2.4183\\  and\\ is\\ within\\ rejection\\ region\\  [1.8946, \\infty)$\n",
    "$\\large 1.895 < 2.4183 < \\infty$\n",
    "# *Therefore we reject $H_0$*"
   ]
  },
  {
   "cell_type": "markdown",
   "metadata": {},
   "source": [
    "---"
   ]
  },
  {
   "cell_type": "markdown",
   "metadata": {},
   "source": [
    "# *(c) Approximate the p-value and provide its bounds*\n",
    "\n",
    "### *The p-value is the probability of obtaining the value of the test statistic or greater(or less than if negative). We use the Student T distribution to approximate this probability within the respected degrees of freedom.*\n",
    "\n",
    "$\\Large P(\\ t(n-1) \\geq 2.183) \\\\ \\Large = P(\\ t(n-1) > 2.183) \\\\ \\Large = 1 - P(\\ t(n-1) \\leq 2.183) \\\\ \\Large = 1 - P(\\ t(n-1) < 2.183)$"
   ]
  },
  {
   "cell_type": "code",
   "execution_count": 4,
   "metadata": {},
   "outputs": [
    {
     "name": "stdout",
     "output_type": "stream",
     "text": [
      "P-value: 0.023103679733782467  ≈  0.0231\n"
     ]
    }
   ],
   "source": [
    "pVal = 1 - scipy.stats.t.cdf(testStat, n - 1)\n",
    "print(f\"P-value: {pVal}  ≈  {pVal:.4}\")\n",
    "pVal = round(pVal,4)"
   ]
  },
  {
   "cell_type": "markdown",
   "metadata": {},
   "source": [
    "---\n",
    "<p align=\"center\">\n",
    "    <img src=\"images/8.1-12.png\" width=\"500px\" height=\"300px\"/>\n",
    "</p>"
   ]
  },
  {
   "cell_type": "code",
   "execution_count": 8,
   "metadata": {},
   "outputs": [
    {
     "name": "stdout",
     "output_type": "stream",
     "text": [
      "Loaded E8_1-12.txt sucessfully.\n",
      "[265 252  13 272 276  -4 246 243   3 260 246  14 274 275  -1 263 246  17\n",
      " 255 244  11 258 245  13 276 259  17 274 260  14 274 267   7 269 267   2\n",
      " 244 251  -7 212 222 -10 235 235   0 254 255  -1 224 231  -7]\n"
     ]
    }
   ],
   "source": [
    "mD = 0\n",
    "n = 17\n",
    "alpha = .05\n",
    "\n",
    "# Load the data sample data from text file\n",
    "# Reshape array and \n",
    "samples = load_sample_data(8,1,12, True)\n",
    "samples = np.reshape(samples, (17, 3)).T\n",
    "\n",
    "# Split the data accordingly,\n",
    "# x = Distance Ball A\n",
    "# y = Distance Ball B\n",
    "# d = Correct difference ( dist A - dist B)\n",
    "x, y, d = (samples[0]), (samples[1]), (samples[2]) "
   ]
  },
  {
   "cell_type": "markdown",
   "metadata": {},
   "source": [
    "## *We are performing a paired t-test. Must take the difference to find distribution D.*\n",
    "$\\large d_1 = x_1 - y_1, ... , d_n = x_n - y_n$\n",
    "\n",
    "## *The formula for Test Statistic t looks awfully familar*\n",
    "$\\large test\\ statistic\\ t = \\frac{\\bar{d} - \\mu_d}{\\frac{s_d}{\\sqrt{n}}}$\n"
   ]
  },
  {
   "cell_type": "code",
   "execution_count": 6,
   "metadata": {},
   "outputs": [
    {
     "name": "stdout",
     "output_type": "stream",
     "text": [
      "Sample Mean: 4.764705882352941 ≈ 4.765\n",
      "Sample Standard Deviation: 9.086593226869367 ≈ 9.087\n",
      "Test Statistic = 2.162018826797583 ≈  2.162\n"
     ]
    }
   ],
   "source": [
    "# if difference is correct find sample mean/variance and test Statistic \n",
    "if (x - y).all() == d.all():\n",
    "    dBar = sample_mean(d)\n",
    "    dStd = sample_variance(d) ** .5\n",
    "    testStatistic = (dBar - mD) / (dStd / n ** .5)\n",
    "\n",
    "    # Print results\n",
    "    print(f\"Sample Mean: {dBar} ≈ {dBar:.4}\")\n",
    "    print(f\"Sample Standard Deviation: {dStd} ≈ {dStd:.4}\")\n",
    "    print(f\"Test Statistic = {testStatistic} ≈  {testStatistic:.4}\")\n",
    "    \n",
    "    # Round to approximations\n",
    "    dBar = round(dBar, 3)\n",
    "    dStd = round(dStd, 3)\n",
    "    testStatistic = round(testStatistic, 4)\n",
    "# dBar, dStd, testStatistic"
   ]
  },
  {
   "cell_type": "markdown",
   "metadata": {},
   "source": [
    "#### *We need to compare test statistic t to $t_{1-\\alpha}(n-1)$, the critical region* "
   ]
  },
  {
   "cell_type": "code",
   "execution_count": 7,
   "metadata": {},
   "outputs": [
    {
     "name": "stdout",
     "output_type": "stream",
     "text": [
      "Lower bound of Critical Region: 1.74588367627624 ≈ 1.746\n",
      "Critical Region: [1.746, inf)\n"
     ]
    }
   ],
   "source": [
    "criticalRegion = scipy.stats.t.ppf(1 - alpha, n - 1)\n",
    "print(f\"Lower bound of Critical Region: {criticalRegion} ≈ {criticalRegion:.4}\")\n",
    "print(f\"Critical Region: [{criticalRegion:.4}, {math.inf})\")\n",
    "criticalRegion = round(criticalRegion, 3)"
   ]
  },
  {
   "cell_type": "markdown",
   "metadata": {},
   "source": [
    "$\\large 2.162\\ is\\ within\\ critical\\ region\\ [1.746, \\infty) \\\\ \\Large Therefor\\ we\\ reject\\ H_0$"
   ]
  },
  {
   "cell_type": "markdown",
   "metadata": {},
   "source": [
    "---\n",
    "![alt text](images/8.2-4.png)"
   ]
  }
 ],
 "metadata": {
  "kernelspec": {
   "display_name": "Python 3",
   "language": "python",
   "name": "python3"
  },
  "language_info": {
   "codemirror_mode": {
    "name": "ipython",
    "version": 3
   },
   "file_extension": ".py",
   "mimetype": "text/x-python",
   "name": "python",
   "nbconvert_exporter": "python",
   "pygments_lexer": "ipython3",
   "version": "3.6.6"
  }
 },
 "nbformat": 4,
 "nbformat_minor": 2
}
