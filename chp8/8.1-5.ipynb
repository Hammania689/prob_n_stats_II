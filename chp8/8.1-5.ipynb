{
 "cells": [
  {
   "cell_type": "markdown",
   "metadata": {},
   "source": [
    "![alt text](images/8.1-5.png)"
   ]
  },
  {
   "cell_type": "code",
   "execution_count": 1,
   "metadata": {},
   "outputs": [],
   "source": [
    "from helper import * \n",
    "\n",
    "m0 = 3315\n",
    "n = 30\n",
    "alpha = .05"
   ]
  },
  {
   "cell_type": "markdown",
   "metadata": {},
   "source": [
    "# *(a) Define a critical region that has a significance level of $\\alpha = .05$.*\n",
    "$\\Large Find\\ t_{1-\\alpha}(n - 1)$"
   ]
  },
  {
   "cell_type": "code",
   "execution_count": 2,
   "metadata": {},
   "outputs": [
    {
     "name": "stdout",
     "output_type": "stream",
     "text": [
      "Critical Region: [1.699, inf)\n"
     ]
    }
   ],
   "source": [
    "# We have an unkown population variance so we must use Mr.T FOOL!\n",
    "# criticalRegion = scipy.stats.norm.ppf(1 - alpha) # This is for Z Score\n",
    "criticalRegion = scipy.stats.t.ppf(1 - alpha, n - 1) # Right tail ~ 95% and up\n",
    "print(f\"Critical Region: [{criticalRegion:.4}, {math.inf})\")"
   ]
  },
  {
   "cell_type": "markdown",
   "metadata": {},
   "source": [
    "# *(b) If the random sample of $n = 30$ yielded $\\bar{x} = 3189$ and $s = 488$, what would be your conclusion?*"
   ]
  },
  {
   "cell_type": "code",
   "execution_count": 3,
   "metadata": {},
   "outputs": [],
   "source": [
    "xBar = 3189\n",
    "s = 488"
   ]
  },
  {
   "cell_type": "markdown",
   "metadata": {},
   "source": [
    "$\\Large test\\ statistic\\ t = \\frac{\\bar{X} - \\mu_{0}}{\\frac{s}{ \\sqrt{n}}}$\n",
    "\n",
    "$\\Large Find\\ t_{1-\\alpha}(n - 1)$"
   ]
  },
  {
   "cell_type": "code",
   "execution_count": 21,
   "metadata": {},
   "outputs": [
    {
     "data": {
      "text/plain": [
       "(-1.4142, True)"
      ]
     },
     "execution_count": 21,
     "metadata": {},
     "output_type": "execute_result"
    }
   ],
   "source": [
    "testStat = Decimal((xBar - m0) / (s / n ** .5))\n",
    "testStat = float(round(testStat, 4))\n",
    "testStat, testStat < criticalRegion"
   ]
  },
  {
   "cell_type": "markdown",
   "metadata": {},
   "source": [
    "## *The test statistic is not within the critical region, therefor we fail to reject $H_{0}$*\n"
   ]
  },
  {
   "cell_type": "markdown",
   "metadata": {},
   "source": [
    "# *(c) What is the p-value of this test?*"
   ]
  },
  {
   "cell_type": "code",
   "execution_count": 30,
   "metadata": {},
   "outputs": [
    {
     "data": {
      "text/plain": [
       "0.08397502885927181"
      ]
     },
     "execution_count": 30,
     "metadata": {},
     "output_type": "execute_result"
    }
   ],
   "source": [
    "pVal = scipy.stats.t.cdf(testStat, n - 1)\n",
    "pVal"
   ]
  }
 ],
 "metadata": {
  "kernelspec": {
   "display_name": "Python 3",
   "language": "python",
   "name": "python3"
  },
  "language_info": {
   "codemirror_mode": {
    "name": "ipython",
    "version": 3
   },
   "file_extension": ".py",
   "mimetype": "text/x-python",
   "name": "python",
   "nbconvert_exporter": "python",
   "pygments_lexer": "ipython3",
   "version": "3.6.6"
  }
 },
 "nbformat": 4,
 "nbformat_minor": 2
}
