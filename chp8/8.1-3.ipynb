{
 "cells": [
  {
   "cell_type": "markdown",
   "metadata": {},
   "source": [
    "![alt text](images/8.1-3.png)"
   ]
  },
  {
   "cell_type": "markdown",
   "metadata": {},
   "source": [
    "# *A) Define the test statistic and a critical region that has a significance level of $\\alpha = 0.05$. Sketch a figure showing the critical region.*"
   ]
  },
  {
   "cell_type": "code",
   "execution_count": 15,
   "metadata": {},
   "outputs": [],
   "source": [
    "pass"
   ]
  },
  {
   "cell_type": "markdown",
   "metadata": {},
   "source": [
    "# *B)  Calculate the value of the test statistic and state your conclusion from part A*"
   ]
  },
  {
   "cell_type": "code",
   "execution_count": 14,
   "metadata": {},
   "outputs": [
    {
     "name": "stdout",
     "output_type": "stream",
     "text": [
      "Loaded E8_1-03.txt sucessfully.\n",
      "Test Stat: 1.26\n",
      "Critical Region: [1.645, inf)\n"
     ]
    },
    {
     "data": {
      "text/plain": [
       "False"
      ]
     },
     "execution_count": 14,
     "metadata": {},
     "output_type": "execute_result"
    }
   ],
   "source": [
    "from helper import *\n",
    "\n",
    "s = 100 ** .5\n",
    "n = 25\n",
    "m0 = 170\n",
    "alpha = .05\n",
    "\n",
    "samples = load_sample_data(8,1,3)\n",
    "xBar = sample_mean(samples)\n",
    "\n",
    "testStat = (xBar - m0) / (s / n ** .5)\n",
    "criticalRegion = scipy.stats.t.ppf((1 - alpha), 100000)\n",
    "\n",
    "print(f\"Test Stat: {testStat:.4}\")\n",
    "print(f\"Critical Region: [{criticalRegion:.4}, {math.inf})\")\n",
    "\n",
    "# The test stat is not within our Region of Rejection so we fail to reject H0\n",
    "testStat > criticalRegion"
   ]
  },
  {
   "cell_type": "markdown",
   "metadata": {},
   "source": [
    "# *C) What is the p-value of this test?*\n",
    "\n",
    "$\\large Find\\ P(T < 1.26)$"
   ]
  },
  {
   "cell_type": "code",
   "execution_count": 13,
   "metadata": {},
   "outputs": [
    {
     "data": {
      "text/plain": [
       "0.10384938267415289"
      ]
     },
     "execution_count": 13,
     "metadata": {},
     "output_type": "execute_result"
    }
   ],
   "source": [
    "pVal = 1 - scipy.stats.t.cdf(1.26, 10000)\n",
    "pVal"
   ]
  }
 ],
 "metadata": {
  "kernelspec": {
   "display_name": "Python 3",
   "language": "python",
   "name": "python3"
  },
  "language_info": {
   "codemirror_mode": {
    "name": "ipython",
    "version": 3
   },
   "file_extension": ".py",
   "mimetype": "text/x-python",
   "name": "python",
   "nbconvert_exporter": "python",
   "pygments_lexer": "ipython3",
   "version": "3.6.6"
  }
 },
 "nbformat": 4,
 "nbformat_minor": 2
}
