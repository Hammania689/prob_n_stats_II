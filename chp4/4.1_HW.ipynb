{
 "cells": [
  {
   "cell_type": "code",
   "execution_count": 2,
   "metadata": {},
   "outputs": [],
   "source": [
    "from discrete_rand_functions import *"
   ]
  },
  {
   "cell_type": "code",
   "execution_count": 59,
   "metadata": {},
   "outputs": [],
   "source": [
    "# Problem 8 in section 4.2\n",
    "x = np.array([1,2,3,4])\n",
    "y = np.array([1,2])\n",
    "\n",
    "joint_pmf = np.array([[.1, .2, .3, .05], [.05, .05, .15, .1]])"
   ]
  },
  {
   "cell_type": "code",
   "execution_count": 29,
   "metadata": {},
   "outputs": [
    {
     "name": "stdout",
     "output_type": "stream",
     "text": [
      "Prob(X):[0.15 0.25 0.45 0.15] \n",
      "Prob(Y):[0.65 0.35]\n"
     ]
    }
   ],
   "source": [
    "marg_x = np.sum(joint_pmf, axis=0)\n",
    "marg_y =  np.sum(joint_pmf, axis=1)\n",
    "\n",
    "print(f\"Prob(X):{marg_x}\", f\"\\nProb(Y):{marg_y}\")"
   ]
  },
  {
   "cell_type": "code",
   "execution_count": 43,
   "metadata": {},
   "outputs": [
    {
     "name": "stdout",
     "output_type": "stream",
     "text": [
      "X Mean:2.6 \n",
      "Y Mean:1.35\n"
     ]
    }
   ],
   "source": [
    "mean_x = [(i+1) * marg_x[i] for i in range(len(marg_x))]\n",
    "mean_x = np.sum(mean_x)\n",
    "\n",
    "mean_y = [(i+1) * marg_y[i] for i in range(len(marg_y))]\n",
    "mean_y = np.sum(mean_y)\n",
    "\n",
    "print(f\"X Mean:{mean_x}\", f\"\\nY Mean:{mean_y}\")"
   ]
  },
  {
   "cell_type": "code",
   "execution_count": 58,
   "metadata": {},
   "outputs": [
    {
     "name": "stdout",
     "output_type": "stream",
     "text": [
      "X Variance: 1.8400000000000003 \n",
      "Y Variance: 1.2275000000000005\n"
     ]
    }
   ],
   "source": [
    "var_x = [((i - mean_x) ** 2) * marg_x[i] for i in range(len(marg_x))]\n",
    "var_x = np.sum(var_x)\n",
    "\n",
    "var_y = [((i - mean_y) ** 2) * marg_y[i] for i in range(len(marg_y))]\n",
    "var_y = np.sum(var_y)\n",
    "\n",
    "print(f\"X Variance: {var_x}\", f\"\\nY Variance: {var_y}\")"
   ]
  }
 ],
 "metadata": {
  "kernelspec": {
   "display_name": "Python 3",
   "language": "python",
   "name": "python3"
  },
  "language_info": {
   "codemirror_mode": {
    "name": "ipython",
    "version": 3
   },
   "file_extension": ".py",
   "mimetype": "text/x-python",
   "name": "python",
   "nbconvert_exporter": "python",
   "pygments_lexer": "ipython3",
   "version": "3.7.0"
  }
 },
 "nbformat": 4,
 "nbformat_minor": 2
}
