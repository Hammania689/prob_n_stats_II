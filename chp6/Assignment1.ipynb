{
 "cells": [
  {
   "cell_type": "code",
   "execution_count": 1,
   "metadata": {},
   "outputs": [],
   "source": [
    "from helper import *"
   ]
  },
  {
   "cell_type": "markdown",
   "metadata": {},
   "source": [
    "Click [here](https://github.com/Hammania689/prob_n_stats_II/blob/master/chp6/helper.py) to view contents of helper"
   ]
  },
  {
   "cell_type": "markdown",
   "metadata": {},
   "source": [
    "![alt text](images/num1.png)"
   ]
  },
  {
   "cell_type": "markdown",
   "metadata": {},
   "source": [
    "## A) What are the means and variances of $\\bar{X}$ and $\\bar{Y}$? \n",
    "\n",
    "$\\mu_\\bar{X} = 2000$\n",
    "${\\sigma_\\bar{X}}^2 = 40000$\n",
    "\n",
    "$\\mu_\\bar{Y} = 2500$\n",
    "${\\sigma_\\bar{Y}}^2 = 90000$\n"
   ]
  },
  {
   "cell_type": "markdown",
   "metadata": {},
   "source": [
    "## B) What is the distribution of $\\bar{X}$ - $\\bar{Y}$?\n",
    "\n",
    "$\\bar{X} - \\bar{Y} \\approx$\n",
    "\n",
    "$N(\\mu_\\bar{X} - \\mu_\\bar{Y}, {\\sigma_\\bar{X}}^2 + {\\sigma_\\bar{Y}}^2 ) \\approx $\n",
    "\n",
    "$N(2000 - 2500, 40000 + 90000) \\approx$\n",
    "## $N(-500, 130000) $"
   ]
  },
  {
   "cell_type": "markdown",
   "metadata": {},
   "source": [
    "## C) Find $P(\\bar{X}  >  \\bar{Y})$\n",
    "\n",
    "$P(\\bar{X}  >  \\bar{Y}) \\approx P(\\bar{X}  - \\bar{Y} > 0) \\approx $\n",
    "\n",
    "### *Keeping part B in mind...*\n",
    "\n",
    "$N(\\mu_\\bar{X} - \\mu_\\bar{Y}, {\\sigma_\\bar{X}}^2 + {\\sigma_\\bar{Y}}^2 ) \\approx N(-500, 130000) $\n",
    "\n",
    "\n",
    "$ P( \\frac{\\bar{X} - \\bar{Y} }{\\sqrt{130000}} > \\frac{0 -                     ( -500)}{\\sqrt{130000}}) \\approx P(Z > 1.3867504905630728) \\approx $\n",
    "\n",
    "## $P(Z > 1.39) \\approx .0823$"
   ]
  },
  {
   "cell_type": "markdown",
   "metadata": {},
   "source": [
    "![alt text](images/num2.png)\n",
    "![alt text](images/solution2.png)"
   ]
  },
  {
   "cell_type": "markdown",
   "metadata": {},
   "source": [
    "![alt text](images/num3.1.png)\n",
    "![alt text](images/num3.2.png)"
   ]
  },
  {
   "cell_type": "markdown",
   "metadata": {},
   "source": [
    "![alt text](images/solution3.png)"
   ]
  },
  {
   "cell_type": "markdown",
   "metadata": {},
   "source": [
    "![alt text](images/num4.1.png)\n",
    "![alt text](images/num4.2.png)"
   ]
  },
  {
   "cell_type": "markdown",
   "metadata": {},
   "source": [
    "## A) "
   ]
  },
  {
   "cell_type": "markdown",
   "metadata": {},
   "source": [
    "![alt text](images/solution4.png)"
   ]
  },
  {
   "cell_type": "markdown",
   "metadata": {},
   "source": [
    "$$\\hat{p}^{ML}=\\frac{n}{\\left(\\sum_{i=1}^{n}{X}_{i} \\right)} = \\frac{1}{\\frac{\\left(\\sum_{i=1}^{n}{X}_{i} \\right)}{n}} =\\frac{1}{\\mathbb{E}(X_i)} =\\frac{1}{\\bar{X}}$$"
   ]
  },
  {
   "cell_type": "markdown",
   "metadata": {},
   "source": [
    "## B) \n",
    "\n",
    "### The geometric distribution characterizes n independent trails until the first success. $(1-p)^{K-1}*p$\n",
    "\n",
    "\n",
    "### Being that we have $n$ trails and the probility of each trail success before we reach our first success is defined as $(1-p)^{K-1}$ ...\n",
    "\n",
    "### We can deduce that the probability of each trail being a success $n * p = \\bar{X}$  \n",
    "\n",
    "### But given only the $nth$ trail can be a success the probability of the first moment(expected value) \n",
    "\n",
    "## $\\approx p = \\frac{1}{\\bar{X}}$ "
   ]
  },
  {
   "cell_type": "markdown",
   "metadata": {},
   "source": [
    "## C) Method of Moments estimation at p: 0.07936507936507936\n"
   ]
  },
  {
   "cell_type": "code",
   "execution_count": 2,
   "metadata": {},
   "outputs": [
    {
     "name": "stdout",
     "output_type": "stream",
     "text": [
      "Loaded E6_4-10.txt sucessfully.\n",
      "[ 3 34  7  4 19  2  1 19 43  2 22  4 19 11  7  1  2 21 15 16]\n",
      "Method of Moments estimation at p: 0.07936507936507936\n"
     ]
    }
   ],
   "source": [
    "data = load_sample_data(6,4,10, display=True)\n",
    "print(f\"Method of Moments estimation at p: {mme_geo(data)}\")"
   ]
  },
  {
   "cell_type": "markdown",
   "metadata": {},
   "source": [
    "![alt text](images/num5.png)"
   ]
  },
  {
   "cell_type": "code",
   "execution_count": 3,
   "metadata": {},
   "outputs": [
    {
     "name": "stdout",
     "output_type": "stream",
     "text": [
      "Five Number Summary\n",
      "====================\n",
      "Min: 51, First Quartile: 68.0, Median: 81.0, Third Quartile: 87.0, Maximum: 94\n"
     ]
    },
    {
     "data": {
      "image/png": "[encoded data removed]",
      "text/plain": [
       "<Figure size 432x288 with 1 Axes>"
      ]
     },
     "metadata": {},
     "output_type": "display_data"
    }
   ],
   "source": [
    "# Find the Five Num Summary of the data\n",
    "sl_plot = np.array([51,58,61,62,64, 67,68,69, 70, 72,  73, 73, 74, 75, 81, 81, 82, 83, 85, 86, 86, 87, 87, 89, 89, 90, 91, 93, 94])\n",
    "minn = np.min(sl_plot)\n",
    "median = np.median(sl_plot)\n",
    "mx = np.max(sl_plot)\n",
    "qr1 = np.median(sl_plot[:13])\n",
    "qr3 = np.median(sl_plot[15:])\n",
    "\n",
    "print(\"Five Number Summary\")\n",
    "print(\"=\"*20)\n",
    "print(f\"Min: {minn}, First Quartile: {qr1}, Median: {median}, Third Quartile: {qr3}, Maximum: {mx}\")\n",
    "\n",
    "# Plot and Display Box and whisker plot\n",
    "sns.set(style=\"whitegrid\")\n",
    "ax = sns.boxplot(x=sl_plot)\n",
    "ax.set(xlabel='Height of Elm Trees After 3 years')\n",
    "plt.show()"
   ]
  },
  {
   "cell_type": "markdown",
   "metadata": {},
   "source": [
    "![alt text](images/num6.png)"
   ]
  },
  {
   "cell_type": "markdown",
   "metadata": {},
   "source": [
    "## Find the 90% Confidence interval using the Z distribution?"
   ]
  },
  {
   "cell_type": "code",
   "execution_count": 48,
   "metadata": {},
   "outputs": [
    {
     "name": "stdout",
     "output_type": "stream",
     "text": [
      "[73.7225434  80.82918074]\n"
     ]
    }
   ],
   "source": [
    "mean = sample_mean(sl_plot)\n",
    "var = sample_variance(sl_plot)\n",
    "std = var **.5\n",
    "n = len(sl_plot)\n",
    "\n",
    "## Look up this value on table\n",
    "z_area = 1 - ((1 - .90)/ 2)\n",
    "z_score = 1.65\n",
    "interval = z_score * (std / (n ** .5))\n",
    "\n",
    "conf_interval = np.array([mean - interval, mean + interval])\n",
    "print(conf_interval)"
   ]
  },
  {
   "cell_type": "markdown",
   "metadata": {},
   "source": [
    "\n",
    "# $ \\bar{X} \\pm Z * \\frac{ \\sigma} {\\sqrt{n}} $\n",
    "\n",
    "# Lower bound: 73.7225434\n",
    "\n",
    "# Upper bound: 80.82918074"
   ]
  }
 ],
 "metadata": {
  "kernelspec": {
   "display_name": "Python 3",
   "language": "python",
   "name": "python3"
  },
  "language_info": {
   "codemirror_mode": {
    "name": "ipython",
    "version": 3
   },
   "file_extension": ".py",
   "mimetype": "text/x-python",
   "name": "python",
   "nbconvert_exporter": "python",
   "pygments_lexer": "ipython3",
   "version": "3.6.6"
  }
 },
 "nbformat": 4,
 "nbformat_minor": 2
}
