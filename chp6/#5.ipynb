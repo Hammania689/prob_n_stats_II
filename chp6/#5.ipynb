{
 "cells": [
  {
   "cell_type": "code",
   "execution_count": 1,
   "metadata": {},
   "outputs": [],
   "source": [
    "from helper import *"
   ]
  },
  {
   "cell_type": "code",
   "execution_count": 16,
   "metadata": {},
   "outputs": [],
   "source": [
    "sl_plot = np.array([51,58,61,62,64, 67,68,69, 70, 72,  73, 73, 74, 75, 81, 81, 82, 83, 85, 86, 86, 87, 87, 89, 89, 90, 91, 93, 94])"
   ]
  },
  {
   "cell_type": "code",
   "execution_count": 17,
   "metadata": {},
   "outputs": [
    {
     "data": {
      "text/plain": [
       "(51, 68.0, 81.0, 87.0, 94)"
      ]
     },
     "execution_count": 17,
     "metadata": {},
     "output_type": "execute_result"
    }
   ],
   "source": [
    "minn = np.min(sl_plot)\n",
    "median = np.median(sl_plot)\n",
    "mx = np.max(sl_plot)\n",
    "qr1 = np.median(sl_plot[:13])\n",
    "qr3 = np.median(sl_plot[15:])\n",
    "\n",
    "minn, qr1, median, qr3, mx"
   ]
  },
  {
   "cell_type": "code",
   "execution_count": 19,
   "metadata": {},
   "outputs": [
    {
     "data": {
      "image/png": "[encoded data removed]",
      "text/plain": [
       "<Figure size 432x288 with 1 Axes>"
      ]
     },
     "metadata": {},
     "output_type": "display_data"
    }
   ],
   "source": [
    "import seaborn as sns\n",
    "sns.set(style=\"whitegrid\")\n",
    "ax = sns.boxplot(x=sl_plot)\n",
    "ax.set(xlabel='Height of Elm Trees After 3 years')\n",
    "plt.show()"
   ]
  }
 ],
 "metadata": {
  "kernelspec": {
   "display_name": "Python 3",
   "language": "python",
   "name": "python3"
  },
  "language_info": {
   "codemirror_mode": {
    "name": "ipython",
    "version": 3
   },
   "file_extension": ".py",
   "mimetype": "text/x-python",
   "name": "python",
   "nbconvert_exporter": "python",
   "pygments_lexer": "ipython3",
   "version": "3.6.6"
  }
 },
 "nbformat": 4,
 "nbformat_minor": 2
}
