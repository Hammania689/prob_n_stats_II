{
 "cells": [
  {
   "cell_type": "markdown",
   "metadata": {},
   "source": [
    "![alt text](images/7.4-9.png)"
   ]
  },
  {
   "cell_type": "code",
   "execution_count": 1,
   "metadata": {},
   "outputs": [],
   "source": [
    "from helper import *"
   ]
  },
  {
   "cell_type": "markdown",
   "metadata": {},
   "source": [
    "# $ \\LARGE n = \\frac{ Z^2_{\\frac{\\alpha}2} p(1-p)}{4\\epsilon^2} \\\\\\LARGE p = \\frac{x}n = \\frac{1}6 \\\\ \\LARGE n = \\frac{ 2.57^2\\frac{1}6(1-\\frac{1}6)}{4(.02)^2} $"
   ]
  },
  {
   "cell_type": "code",
   "execution_count": 10,
   "metadata": {},
   "outputs": [
    {
     "data": {
      "text/plain": [
       "2303.783542021255"
      ]
     },
     "execution_count": 10,
     "metadata": {},
     "output_type": "execute_result"
    }
   ],
   "source": [
    "epsilon = .02\n",
    "confidence = .99\n",
    "p = 1/6\n",
    "\n",
    "z = scipy.stats.norm.ppf((1 + confidence)/ 2.0)\n",
    "n = ((z **2) * (p* (1 - p))) / (epsilon **2)\n",
    "n"
   ]
  }
 ],
 "metadata": {
  "kernelspec": {
   "display_name": "Python 3",
   "language": "python",
   "name": "python3"
  },
  "language_info": {
   "codemirror_mode": {
    "name": "ipython",
    "version": 3
   },
   "file_extension": ".py",
   "mimetype": "text/x-python",
   "name": "python",
   "nbconvert_exporter": "python",
   "pygments_lexer": "ipython3",
   "version": "3.6.6"
  }
 },
 "nbformat": 4,
 "nbformat_minor": 2
}
