{
 "cells": [
  {
   "cell_type": "markdown",
   "metadata": {},
   "source": [
    "![alt text](images/7.3-5.png)"
   ]
  },
  {
   "cell_type": "code",
   "execution_count": 1,
   "metadata": {},
   "outputs": [],
   "source": [
    "from helper import *"
   ]
  },
  {
   "cell_type": "markdown",
   "metadata": {},
   "source": [
    "# $\\LARGE A)\\ Find\\ \\widehat{p} = \\frac{Y}n $"
   ]
  },
  {
   "cell_type": "code",
   "execution_count": 2,
   "metadata": {},
   "outputs": [
    {
     "data": {
      "text/plain": [
       "0.18"
      ]
     },
     "execution_count": 2,
     "metadata": {},
     "output_type": "execute_result"
    }
   ],
   "source": [
    "y = 9.0\n",
    "n = 50.0\n",
    "p = y / n\n",
    "p"
   ]
  },
  {
   "cell_type": "markdown",
   "metadata": {},
   "source": [
    "# $ \\LARGE B) Find \\  p \\pm z_{\\frac{\\alpha}2}\\sqrt{\\frac{\\widehat{p}(1-\\widehat{p})}n} \\\\ = \\LARGE \\frac{Y}n \\pm z_{\\frac{\\alpha}2}{\\sqrt{\\frac{ (\\frac{y}n) (1 - \\frac{y}n) }n} }$ "
   ]
  },
  {
   "cell_type": "code",
   "execution_count": 3,
   "metadata": {},
   "outputs": [
    {
     "data": {
      "text/plain": [
       "(0.07351062757866839, 0.2864893724213316)"
      ]
     },
     "execution_count": 3,
     "metadata": {},
     "output_type": "execute_result"
    }
   ],
   "source": [
    "prop_conf_interval(p, n, .95)"
   ]
  },
  {
   "cell_type": "code",
   "execution_count": 4,
   "metadata": {},
   "outputs": [
    {
     "data": {
      "text/plain": [
       "[0.0735, 0.2865]"
      ]
     },
     "execution_count": 4,
     "metadata": {},
     "output_type": "execute_result"
    }
   ],
   "source": [
    "[0.0735, 0.2865]"
   ]
  },
  {
   "cell_type": "markdown",
   "metadata": {},
   "source": [
    "# $ C) Find\\ \\LARGE H(p) = \\frac{\\widehat{p} + \\frac{z^2_0}{2n} \\pm z_0 \\sqrt{\\frac{\\widehat{p}(1-\\widehat{p})}n + \\frac{z^2_0}{(4n)^2}}}{1 + \\frac{z_0^2}n} $"
   ]
  },
  {
   "cell_type": "code",
   "execution_count": 5,
   "metadata": {},
   "outputs": [
    {
     "data": {
      "text/plain": [
       "(0.10234389026905932, 0.3033185731762903)"
      ]
     },
     "execution_count": 5,
     "metadata": {},
     "output_type": "execute_result"
    }
   ],
   "source": [
    "histogram_prop_conf_interval(p, n, 0.95)"
   ]
  },
  {
   "cell_type": "code",
   "execution_count": 22,
   "metadata": {},
   "outputs": [
    {
     "data": {
      "text/plain": [
       "(0.10234389026905932, 0.3033185731762903)"
      ]
     },
     "execution_count": 22,
     "metadata": {},
     "output_type": "execute_result"
    }
   ],
   "source": [
    "confidence = .95\n",
    "confidence = (1 + confidence) / 2.0\n",
    "z = scipy.stats.norm.ppf(confidence)\n",
    "\n",
    "lowerBound = (p + z**2/ (2 * n) - z * ((p * (1 - p))/n + (z**2)/(4 * n) **2)**.5) / (1 + (z **2)/n)\n",
    "# lowerBound =  (p + ((z **2)/(2 * n)) - z * ( ((p * (1-p))/n + (z **2)/(4*n)**2) **.5))  / (1 + (z **2)/n)\n",
    "# upperBound = (p + (z **2)/(2 * n) + z * (((p * (1-p))/n + (z **2)/(4*n)**2) **.5)) / (1 + (z **2)/n)\n",
    "lowerBound, upperBound"
   ]
  },
  {
   "cell_type": "code",
   "execution_count": 6,
   "metadata": {},
   "outputs": [
    {
     "data": {
      "text/plain": [
       "[0.0977, 0.308]"
      ]
     },
     "execution_count": 6,
     "metadata": {},
     "output_type": "execute_result"
    }
   ],
   "source": [
    "[0.0977, 0.3080]"
   ]
  },
  {
   "cell_type": "markdown",
   "metadata": {},
   "source": [
    "\n",
    "# $ \\LARGE D)\\ Find\\  \\widetilde{p} = \\frac{(Y + 2)}{(n+4)} and\\ \\widetilde{p} \\pm Z_{\\frac{\\alpha}2}\\sqrt{\\frac{\\widetilde{p}(1-\\widetilde{p})}{(n+4)}}  $"
   ]
  },
  {
   "cell_type": "code",
   "execution_count": 7,
   "metadata": {},
   "outputs": [
    {
     "data": {
      "text/plain": [
       "(0.09628299293078567, 0.3111244144766217)"
      ]
     },
     "execution_count": 7,
     "metadata": {},
     "output_type": "execute_result"
    }
   ],
   "source": [
    "biased_conf_interval(y, n, .95)"
   ]
  },
  {
   "cell_type": "code",
   "execution_count": 8,
   "metadata": {},
   "outputs": [
    {
     "data": {
      "text/plain": [
       "[0.0963, 0.3111]"
      ]
     },
     "execution_count": 8,
     "metadata": {},
     "output_type": "execute_result"
    }
   ],
   "source": [
    "[0.0963, 0.3111]"
   ]
  },
  {
   "cell_type": "code",
   "execution_count": 9,
   "metadata": {},
   "outputs": [
    {
     "name": "stdout",
     "output_type": "stream",
     "text": [
      "One-sided Upper boundary:\n"
     ]
    },
    {
     "data": {
      "text/plain": [
       "0.2693686985274467"
      ]
     },
     "execution_count": 9,
     "metadata": {},
     "output_type": "execute_result"
    }
   ],
   "source": [
    "prop_one_side_conf_interval(p, n, .95)"
   ]
  }
 ],
 "metadata": {
  "kernelspec": {
   "display_name": "Python 3",
   "language": "python",
   "name": "python3"
  },
  "language_info": {
   "codemirror_mode": {
    "name": "ipython",
    "version": 3
   },
   "file_extension": ".py",
   "mimetype": "text/x-python",
   "name": "python",
   "nbconvert_exporter": "python",
   "pygments_lexer": "ipython3",
   "version": "3.7.1"
  }
 },
 "nbformat": 4,
 "nbformat_minor": 2
}
