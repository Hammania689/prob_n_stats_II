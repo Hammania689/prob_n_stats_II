{
 "cells": [
  {
   "cell_type": "markdown",
   "metadata": {},
   "source": [
    "![alt text](images/7.1-5.png)"
   ]
  },
  {
   "cell_type": "code",
   "execution_count": 1,
   "metadata": {},
   "outputs": [],
   "source": [
    "from helper import *"
   ]
  },
  {
   "cell_type": "code",
   "execution_count": 2,
   "metadata": {},
   "outputs": [
    {
     "name": "stdout",
     "output_type": "stream",
     "text": [
      "Loaded E7_1-05.txt sucessfully.\n",
      "[ 93 140   8 120   3 120  33  70  91  61   7 100  19  98 110  23  14  94\n",
      "  57   9  66  53  28  76  58   9  73  49  37  92]\n"
     ]
    }
   ],
   "source": [
    "samples = load_sample_data(7,1,5,display=True)"
   ]
  },
  {
   "cell_type": "code",
   "execution_count": 3,
   "metadata": {},
   "outputs": [
    {
     "data": {
      "text/plain": [
       "(60.36666666666667, 39.621905586415835)"
      ]
     },
     "execution_count": 3,
     "metadata": {},
     "output_type": "execute_result"
    }
   ],
   "source": [
    "xBar = sample_mean(samples)\n",
    "s = sample_variance(samples) **.5\n",
    "xBar,s"
   ]
  },
  {
   "cell_type": "code",
   "execution_count": 4,
   "metadata": {},
   "outputs": [
    {
     "name": "stdout",
     "output_type": "stream",
     "text": [
      "Converting confidence interval to 0.9\n",
      "Z Score at 0.9 confidence: 1.6448536269514722\n",
      "Mean is within range 48.46789890230812, 72.26543443102521 with 0.9 confidence!\n"
     ]
    },
    {
     "data": {
      "text/plain": [
       "(48.46789890230812, 72.26543443102521)"
      ]
     },
     "execution_count": 4,
     "metadata": {},
     "output_type": "execute_result"
    }
   ],
   "source": [
    "z_score_lookup(samples, 90, xBar, s, display=True)"
   ]
  }
 ],
 "metadata": {
  "kernelspec": {
   "display_name": "Python 3",
   "language": "python",
   "name": "python3"
  },
  "language_info": {
   "codemirror_mode": {
    "name": "ipython",
    "version": 3
   },
   "file_extension": ".py",
   "mimetype": "text/x-python",
   "name": "python",
   "nbconvert_exporter": "python",
   "pygments_lexer": "ipython3",
   "version": "3.6.6"
  }
 },
 "nbformat": 4,
 "nbformat_minor": 2
}
