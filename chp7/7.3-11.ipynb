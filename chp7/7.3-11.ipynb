{
 "cells": [
  {
   "cell_type": "markdown",
   "metadata": {},
   "source": [
    "![alt text](images/7.3-11.png)"
   ]
  },
  {
   "cell_type": "code",
   "execution_count": 1,
   "metadata": {},
   "outputs": [],
   "source": [
    "from helper import *"
   ]
  },
  {
   "cell_type": "code",
   "execution_count": 2,
   "metadata": {},
   "outputs": [
    {
     "data": {
      "text/plain": [
       "(0.4, 0.35)"
      ]
     },
     "execution_count": 2,
     "metadata": {},
     "output_type": "execute_result"
    }
   ],
   "source": [
    "y1 = 520\n",
    "n1 = 1300\n",
    "\n",
    "y2 = 385\n",
    "n2 = 1100\n",
    "\n",
    "p1 = y1 / n1\n",
    "p2 = y2 / n2\n",
    "\n",
    "p1, p2"
   ]
  },
  {
   "cell_type": "code",
   "execution_count": 5,
   "metadata": {},
   "outputs": [
    {
     "data": {
      "text/plain": [
       "(0.011222739569536636, 0.08877726043046345)"
      ]
     },
     "execution_count": 5,
     "metadata": {},
     "output_type": "execute_result"
    }
   ],
   "source": [
    "confidence = .95\n",
    "confidence = (1 + confidence) / 2.0\n",
    "z = scipy.stats.norm.ppf(confidence)\n",
    "\n",
    "lowerBound = p1 - p2 - z * ((p1 * (1 - p1))/n1 + (p2 *(1 - p2))/n2) ** .5\n",
    "upperBound = p1 - p2 + z * ((p1 * (1 - p1))/n1 + (p2 *(1 - p2))/n2) ** .5\n",
    "\n",
    "lowerBound,upperBound"
   ]
  },
  {
   "cell_type": "code",
   "execution_count": 6,
   "metadata": {},
   "outputs": [
    {
     "data": {
      "text/plain": [
       "[0.011, 0.089]"
      ]
     },
     "execution_count": 6,
     "metadata": {},
     "output_type": "execute_result"
    }
   ],
   "source": [
    "[0.011, 0.089]"
   ]
  }
 ],
 "metadata": {
  "kernelspec": {
   "display_name": "Python 3",
   "language": "python",
   "name": "python3"
  },
  "language_info": {
   "codemirror_mode": {
    "name": "ipython",
    "version": 3
   },
   "file_extension": ".py",
   "mimetype": "text/x-python",
   "name": "python",
   "nbconvert_exporter": "python",
   "pygments_lexer": "ipython3",
   "version": "3.7.1"
  }
 },
 "nbformat": 4,
 "nbformat_minor": 2
}
