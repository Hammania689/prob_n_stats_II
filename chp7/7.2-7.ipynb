{
 "cells": [
  {
   "cell_type": "markdown",
   "metadata": {},
   "source": [
    "![alt text](images/7.2-7.1.png)\n",
    "![alt text](images/7.2-7.2.png)"
   ]
  },
  {
   "cell_type": "code",
   "execution_count": 1,
   "metadata": {},
   "outputs": [
    {
     "name": "stdout",
     "output_type": "stream",
     "text": [
      "Loaded E7_2-07.txt sucessfully.\n",
      "['28.8\\t14.1' '24.4\\t12.2' '30.1\\t14.0' '25.6\\t14.6' '26.4\\t8.5'\n",
      " '23.9\\t12.6' '22.1\\t13.7' '22.5\\t14.8' '27.6\\t14.1' '28.1\\t13.2'\n",
      " '20.8\\t12.1' '27.7\\t11.4' '24.4\\t10.1' '25.1\\t14.2' '24.6\\t13.6'\n",
      " '26.3\\t13.1' '28.2\\t11.9' '22.2\\t14.8' '26.3\\t11.1' '24.4\\t13.5']\n"
     ]
    },
    {
     "data": {
      "text/plain": [
       "(array([28.8, 24.4, 30.1, 25.6, 26.4, 23.9, 22.1, 22.5, 27.6, 28.1, 20.8,\n",
       "        27.7, 24.4, 25.1, 24.6, 26.3, 28.2, 22.2, 26.3, 24.4]),\n",
       " array([14.1, 12.2, 14. , 14.6,  8.5, 12.6, 13.7, 14.8, 14.1, 13.2, 12.1,\n",
       "        11.4, 10.1, 14.2, 13.6, 13.1, 11.9, 14.8, 11.1, 13.5]))"
      ]
     },
     "execution_count": 1,
     "metadata": {},
     "output_type": "execute_result"
    }
   ],
   "source": [
    "from helper import *\n",
    "\n",
    "samples = load_sample_data(7,2,7, display=True)\n",
    "xSamples = np.zeros(np.shape(samples), dtype=float)\n",
    "ySamples = np.zeros(np.shape(samples), dtype=float)\n",
    "\n",
    "# Strip values to approiate sample distribution\n",
    "for i in range(len(samples)):\n",
    "    # print(samples[i], \"X:\", float(samples[i][:4]), \"Y:\", float(samples[i][-4:]),type(samples[i]))\n",
    "    xSamples[i] = float(samples[i][:4])\n",
    "    ySamples[i] = float(samples[i][-4:])\n",
    "    \n",
    "xSamples, ySamples"
   ]
  },
  {
   "cell_type": "markdown",
   "metadata": {},
   "source": [
    "# $A)$ Does the current wire meet the customer's specifications? <br/> Meaning is the expected minimum force atleast 20 pounds.\n",
    "\n",
    "# So let's find the Lower Bound one-sided confidence interval for $\\bar{X}$ to represent the $\\mu_X$"
   ]
  },
  {
   "cell_type": "code",
   "execution_count": 8,
   "metadata": {},
   "outputs": [
    {
     "data": {
      "text/plain": [
       "24.510881443856213"
      ]
     },
     "execution_count": 8,
     "metadata": {},
     "output_type": "execute_result"
    }
   ],
   "source": [
    "xBar = sample_mean(xSamples)\n",
    "xStd = sample_variance(xSamples) ** .5\n",
    "t = scipy.stats.t.ppf(.95, len(xSamples) -1)\n",
    "\n",
    "lowerBound = xBar - t * (xStd/(n **.5))\n",
    "lowerBound"
   ]
  },
  {
   "cell_type": "markdown",
   "metadata": {},
   "source": [
    "## Yes lowerbound of $\\mu_X \\approx 25.511$ with $95\\%$ confidence <br/> \n",
    "\n"
   ]
  },
  {
   "cell_type": "markdown",
   "metadata": {},
   "source": [
    "# $B)$ Find a 90% confidience interval for the difference of the menas for the two samples\n",
    "\n",
    "# Off the back we know <br/> 1. That $\\sigma_X$  and $\\sigma_Y$ are unknown <br/> 2. $n$ and $m$ < 30 <br/><br/> So let's use the T distribution!"
   ]
  },
  {
   "cell_type": "code",
   "execution_count": 11,
   "metadata": {},
   "outputs": [
    {
     "name": "stdout",
     "output_type": "stream",
     "text": [
      "Converting confidence interval to 0.9\n",
      "[11.465518125574235, 13.724481874425763]\n"
     ]
    }
   ],
   "source": [
    "lowerBound, upperBound = t_confidence_Interval_Difference_Of_Means(xSamples, ySamples, 90)\n",
    "print(f\"[{lowerBound}, {upperBound}]\")"
   ]
  },
  {
   "cell_type": "markdown",
   "metadata": {},
   "source": [
    "# $C)$ Construct a box and whisker plot of the two sets of wires on the same figure"
   ]
  },
  {
   "cell_type": "code",
   "execution_count": 41,
   "metadata": {},
   "outputs": [
    {
     "name": "stdout",
     "output_type": "stream",
     "text": [
      "Five plot summary for X and Y\n",
      "===================================\n",
      "X: 20.8 23.439999999999998 25.475 27.51 30.1\n",
      "Y: 8.5 11.620000000000001 12.879999999999999 14.14 14.8\n"
     ]
    }
   ],
   "source": [
    "xSamples.sort()\n",
    "xMin = xSamples.min()\n",
    "xQr1 = (xSamples[:(len(xSamples) // 2)]).mean()\n",
    "xMean = xSamples.mean()\n",
    "xQr3 = (xSamples[(len(xSamples) // 2):]).mean()\n",
    "xMax = xSamples.max()\n",
    "\n",
    "ySamples.sort()\n",
    "yMin = ySamples.min()\n",
    "yQr1 = (ySamples[:(len(ySamples) // 2)]).mean()\n",
    "yMean = ySamples.mean()\n",
    "yQr3 = (ySamples[(len(ySamples) // 2):]).mean()\n",
    "yMax = ySamples.max()\n",
    "\n",
    "print(\"Five plot summary for X and Y\")\n",
    "print(\"=\" * 35)\n",
    "print(\"X:\", xMin, xQr1, xMean, xQr3, xMax)\n",
    "print(\"Y:\", yMin, yQr1, yMean, yQr3, yMax)"
   ]
  },
  {
   "cell_type": "code",
   "execution_count": 57,
   "metadata": {},
   "outputs": [
    {
     "name": "stdout",
     "output_type": "stream",
     "text": [
      "X's IQR: 4.07.fo, OuterLow: 11.23, InnerLow: 17.33, InnerHigh: 33.62, OuterHigh: 39.72\n",
      "Y's IQR:2.52,  OuterLow: 4.06, InnerLow: 7.84, InnerHigh: 17.92, OuterHigh: 21.70\n"
     ]
    }
   ],
   "source": [
    "# Find inter quartile range as well as inner and outer fences\n",
    "xIqr = xQr3 - xQr1\n",
    "xInnerLow = xQr1 - 1.5 * xIqr\n",
    "xOuterLow = xQr1 - 3 * xIqr\n",
    "xInnerHigh = xQr3 + 1.5 * xIqr\n",
    "xOuterHigh = xQr3 + 3 * xIqr\n",
    "\n",
    "yIqr = yQr3 - yQr1\n",
    "yInnerLow = yQr1 - 1.5 * yIqr\n",
    "yOuterLow = yQr1 - 3 * yIqr\n",
    "yInnerHigh = yQr3 + 1.5 * yIqr\n",
    "yOuterHigh = yQr3 + 3 * yIqr\n",
    "\n",
    "print(f\"X's IQR: {xIqr:.2f}.fo, OuterLow: {xOuterLow:.2f}, InnerLow: {xInnerLow:.2f}, InnerHigh: {xInnerHigh:.2f}, OuterHigh: {xOuterHigh:.2f}\")\n",
    "print(f\"Y's IQR:{yIqr:.2f},  OuterLow: {yOuterLow:.2f}, InnerLow: {yInnerLow:.2f}, InnerHigh: {yInnerHigh:.2f}, OuterHigh: {yOuterHigh:.2f}\")"
   ]
  },
  {
   "cell_type": "code",
   "execution_count": 145,
   "metadata": {},
   "outputs": [
    {
     "ename": "TypeError",
     "evalue": "set() got an unexpected keyword argument 'xlabel'",
     "output_type": "error",
     "traceback": [
      "\u001b[0;31m---------------------------------------------------------------------------\u001b[0m",
      "\u001b[0;31mTypeError\u001b[0m                                 Traceback (most recent call last)",
      "\u001b[0;32m<ipython-input-145-f98cfb6d3e38>\u001b[0m in \u001b[0;36m<module>\u001b[0;34m()\u001b[0m\n\u001b[1;32m      1\u001b[0m \u001b[0mwires\u001b[0m \u001b[0;34m=\u001b[0m \u001b[0mpd\u001b[0m\u001b[0;34m.\u001b[0m\u001b[0mDataFrame\u001b[0m\u001b[0;34m(\u001b[0m\u001b[0mdata\u001b[0m\u001b[0;34m=\u001b[0m\u001b[0;34m{\u001b[0m\u001b[0;34m\"X\"\u001b[0m\u001b[0;34m:\u001b[0m\u001b[0mxSamples\u001b[0m\u001b[0;34m,\u001b[0m\u001b[0;34m\"Y\"\u001b[0m\u001b[0;34m:\u001b[0m\u001b[0mySamples\u001b[0m\u001b[0;34m}\u001b[0m\u001b[0;34m)\u001b[0m\u001b[0;34m\u001b[0m\u001b[0m\n\u001b[1;32m      2\u001b[0m \u001b[0;34m\u001b[0m\u001b[0m\n\u001b[0;32m----> 3\u001b[0;31m \u001b[0msns\u001b[0m\u001b[0;34m.\u001b[0m\u001b[0mset\u001b[0m\u001b[0;34m(\u001b[0m\u001b[0mstyle\u001b[0m\u001b[0;34m=\u001b[0m\u001b[0;34m\"whitegrid\"\u001b[0m\u001b[0;34m,\u001b[0m \u001b[0mxlabel\u001b[0m\u001b[0;34m=\u001b[0m\u001b[0;34m'Force Wire Can Withstand'\u001b[0m\u001b[0;34m)\u001b[0m\u001b[0;34m\u001b[0m\u001b[0m\n\u001b[0m\u001b[1;32m      4\u001b[0m \u001b[0max\u001b[0m \u001b[0;34m=\u001b[0m \u001b[0msns\u001b[0m\u001b[0;34m.\u001b[0m\u001b[0mboxplot\u001b[0m\u001b[0;34m(\u001b[0m \u001b[0mdata\u001b[0m\u001b[0;34m=\u001b[0m\u001b[0mwires\u001b[0m\u001b[0;34m,\u001b[0m \u001b[0morient\u001b[0m\u001b[0;34m=\u001b[0m\u001b[0;34m'h'\u001b[0m\u001b[0;34m,\u001b[0m \u001b[0mlinewidth\u001b[0m\u001b[0;34m=\u001b[0m\u001b[0;36m2.5\u001b[0m\u001b[0;34m,\u001b[0m \u001b[0morder\u001b[0m\u001b[0;34m=\u001b[0m\u001b[0;34m[\u001b[0m\u001b[0;34m\"Y\"\u001b[0m\u001b[0;34m,\u001b[0m\u001b[0;34m\"X\"\u001b[0m\u001b[0;34m]\u001b[0m\u001b[0;34m)\u001b[0m\u001b[0;34m\u001b[0m\u001b[0m\n\u001b[1;32m      5\u001b[0m \u001b[0;31m# ax = sns.swarmplot(x=wires[\"X\"], color=\".25\")\u001b[0m\u001b[0;34m\u001b[0m\u001b[0;34m\u001b[0m\u001b[0m\n",
      "\u001b[0;31mTypeError\u001b[0m: set() got an unexpected keyword argument 'xlabel'"
     ]
    }
   ],
   "source": [
    "wires = pd.DataFrame(data={\"X\":xSamples,\"Y\":ySamples})\n",
    "\n",
    "sns.set(style=\"whitegrid\")\n",
    "ax = sns.boxplot( data=wires, orient='h', linewidth=2.5, order=[\"Y\",\"X\"])\n",
    "ax.set()\n",
    "# ax = sns.swarmplot(x=wires[\"X\"], color=\".25\")\n",
    "plt.show()"
   ]
  }
 ],
 "metadata": {
  "kernelspec": {
   "display_name": "Python 3",
   "language": "python",
   "name": "python3"
  },
  "language_info": {
   "codemirror_mode": {
    "name": "ipython",
    "version": 3
   },
   "file_extension": ".py",
   "mimetype": "text/x-python",
   "name": "python",
   "nbconvert_exporter": "python",
   "pygments_lexer": "ipython3",
   "version": "3.6.6"
  }
 },
 "nbformat": 4,
 "nbformat_minor": 2
}
