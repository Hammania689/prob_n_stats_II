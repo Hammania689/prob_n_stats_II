{
 "cells": [
  {
   "cell_type": "markdown",
   "metadata": {},
   "source": [
    "![alt text](images/7.1-15.1.png)\n",
    "\n",
    "![alt text](images/7.1-15.2.png) "
   ]
  },
  {
   "cell_type": "code",
   "execution_count": 11,
   "metadata": {},
   "outputs": [
    {
     "name": "stdout",
     "output_type": "stream",
     "text": [
      "Loaded E7_1-15.txt sucessfully.\n",
      "[28.8 24.4 30.1 25.6 26.4 23.9 22.1 22.5 27.6 28.1 20.8 27.7 24.4 25.1\n",
      " 24.6 26.3 28.2 22.2 26.3 24.4]\n",
      "25.475 2.493544296357042 24.059051583093837 2.539483190622288\n"
     ]
    }
   ],
   "source": [
    "from helper import * \n",
    "\n",
    "\n",
    "samples = load_sample_data(7,1,15,display=True)\n",
    "xBar = sample_mean(samples)\n",
    "s = sample_variance(samples) **.5\n",
    "\n",
    "tInterval = scipy.stats.t.ppf(.99, len(samples)-1)\n",
    "lowerBound = xBar - tInterval*(s/(len(samples) ** .5))"
   ]
  },
  {
   "cell_type": "markdown",
   "metadata": {},
   "source": [
    "## Lowerbound $= P( \\bar{X} - t_{1-\\alpha}(\\frac{s}{\\sqrt{n}}) \\leqq \\mu) = 1 - \\alpha$ <br/>*As proven in previous problem* \n",
    "# $ t_{1-.99} = t_{.01}= 2.539483190622288 \\approx 2.539 \\\\ \\bar{X} - t_{1-\\alpha}(\\frac{s}{\\sqrt{n}}) = 25.475 - 2.539(\\frac{2.493544296357042}{\\sqrt{20}}) = 24.059051583093837 \\approx 24.05905 \\\\  [24.05905, \\infty)$"
   ]
  }
 ],
 "metadata": {
  "kernelspec": {
   "display_name": "Python 3",
   "language": "python",
   "name": "python3"
  },
  "language_info": {
   "codemirror_mode": {
    "name": "ipython",
    "version": 3
   },
   "file_extension": ".py",
   "mimetype": "text/x-python",
   "name": "python",
   "nbconvert_exporter": "python",
   "pygments_lexer": "ipython3",
   "version": "3.6.6"
  }
 },
 "nbformat": 4,
 "nbformat_minor": 2
}
