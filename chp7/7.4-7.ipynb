{
 "cells": [
  {
   "cell_type": "markdown",
   "metadata": {},
   "source": [
    "![alt text](images/7.4-7.png)"
   ]
  },
  {
   "cell_type": "code",
   "execution_count": 2,
   "metadata": {},
   "outputs": [],
   "source": [
    "from helper import *"
   ]
  },
  {
   "cell_type": "markdown",
   "metadata": {},
   "source": [
    "# $ \\LARGE n = \\frac{ Z_{\\frac{\\alpha}2} p(1-p)}{4\\epsilon^2} \\leq \\frac{ Z^2_{\\frac{\\alpha}2}}{4\\epsilon^2} \\\\ \\LARGE n = \\frac{ Z^2_{\\frac{\\alpha}2}}{4\\epsilon^2} $\n"
   ]
  },
  {
   "cell_type": "code",
   "execution_count": 11,
   "metadata": {},
   "outputs": [
    {
     "data": {
      "text/plain": [
       "1068"
      ]
     },
     "execution_count": 11,
     "metadata": {},
     "output_type": "execute_result"
    }
   ],
   "source": [
    "epsilon = .03\n",
    "confidence = .95\n",
    "\n",
    "z = scipy.stats.norm.ppf((1 + confidence) / 2.0)\n",
    "n = z **2 / (4 * epsilon **2)\n",
    "math.ceil(n)"
   ]
  },
  {
   "cell_type": "code",
   "execution_count": 12,
   "metadata": {},
   "outputs": [
    {
     "data": {
      "text/plain": [
       "2401"
      ]
     },
     "execution_count": 12,
     "metadata": {},
     "output_type": "execute_result"
    }
   ],
   "source": [
    "epsilon = .02\n",
    "confidence = .95\n",
    "\n",
    "z = scipy.stats.norm.ppf((1 + confidence) / 2.0)\n",
    "n = z **2 / (4 * epsilon **2)\n",
    "math.ceil(n)"
   ]
  },
  {
   "cell_type": "code",
   "execution_count": 13,
   "metadata": {},
   "outputs": [
    {
     "data": {
      "text/plain": [
       "752"
      ]
     },
     "execution_count": 13,
     "metadata": {},
     "output_type": "execute_result"
    }
   ],
   "source": [
    "epsilon = .03\n",
    "confidence = .90\n",
    "\n",
    "z = scipy.stats.norm.ppf((1 + confidence) / 2.0)\n",
    "n = z **2 / (4 * epsilon **2)\n",
    "math.ceil(n)"
   ]
  }
 ],
 "metadata": {
  "kernelspec": {
   "display_name": "Python 3",
   "language": "python",
   "name": "python3"
  },
  "language_info": {
   "codemirror_mode": {
    "name": "ipython",
    "version": 3
   },
   "file_extension": ".py",
   "mimetype": "text/x-python",
   "name": "python",
   "nbconvert_exporter": "python",
   "pygments_lexer": "ipython3",
   "version": "3.6.6"
  }
 },
 "nbformat": 4,
 "nbformat_minor": 2
}
