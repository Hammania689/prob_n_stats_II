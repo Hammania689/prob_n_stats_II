{
 "cells": [
  {
   "cell_type": "markdown",
   "metadata": {},
   "source": [
    "![alt text](images/7.2-3.png)\n"
   ]
  },
  {
   "cell_type": "code",
   "execution_count": 8,
   "metadata": {},
   "outputs": [],
   "source": [
    "from helper import *\n",
    "\n",
    "# Our two Indepent rample sample distributions\n",
    "xBar = 65.7\n",
    "xSampStd = 4 \n",
    "n = 12\n",
    "\n",
    "yBar = 68.2\n",
    "ySampStd = 3\n",
    "m = 15"
   ]
  },
  {
   "cell_type": "markdown",
   "metadata": {},
   "source": [
    "# $ T = \\frac{Z}{\\sqrt{\\frac{u}{(m + n - 2)}}}$ \n",
    "# $ = \\frac{\\frac{(\\bar{X} - \\bar{Y})-(\\mu_x - \\mu_y)}{\\sqrt{\\frac{\\sigma^2}m + \\frac{\\sigma^2}n}}}{\\sqrt{\\frac{(m-1)S^2_x}{\\sigma^2} + \\frac{(n-1)S^2_y}{\\sigma^2}(\\frac{1}{m+n-2})}}$\n",
    "\n",
    "# $= \\frac{(\\bar{X} - \\bar{Y}) -(\\mu_x - \\mu_y)}{\\sqrt{\\frac{1}{m} + \\frac{1}{n}} \\sqrt{\\frac{(m-1)S^2_x + (n-1)S^2_y}{m+n-2}} }$\n",
    "\n",
    "# $ So... \\\\ P(-t_{\\frac{\\alpha}{2}}(m+n-2) \\leqq T \\leqq t_{\\frac{\\alpha}{2}}(m+n-2)) = 1 -\\alpha $\n",
    "\n",
    "# $ 100(1-\\alpha)=(\\bar{X}-\\bar{Y})\\pm t_{\\frac{\\alpha}2}(m+n-2)S_p\\sqrt{\\frac{1}{m} + \\frac{1}n}$\n",
    "\n",
    "## $\\large Where\\ the\\ sample\\ pooled\\ standard\\ deviation\\ is \\ldots \\\\ S_p = \\sqrt{\\frac{(m-1)S^2_x + (n-1)S^2_y}{m+n-2}} $"
   ]
  },
  {
   "cell_type": "code",
   "execution_count": 16,
   "metadata": {},
   "outputs": [
    {
     "data": {
      "text/plain": [
       "(-5.845216421097259, 0.8452164210972586)"
      ]
     },
     "execution_count": 16,
     "metadata": {},
     "output_type": "execute_result"
    }
   ],
   "source": [
    "# Find probability of \n",
    "tAtAlpha = (1 + 0.98) / 2.0\n",
    "t = scipy.stats.t.ppf(tAtAlpha,(n + m - 2))\n",
    "spsd = ((((n - 1)* (xSampStd**2)) + ((m - 1) * (ySampStd**2)))/(m + n - 2)) ** .5 \n",
    "\n",
    "lowerBound = (xBar - yBar) - t * (spsd * (((1/m)+(1/n)) **.5))\n",
    "upperBound = (xBar - yBar) + t * (spsd * (((1/m)+(1/n)) **.5))\n",
    "lowerBound,upperBound"
   ]
  }
 ],
 "metadata": {
  "kernelspec": {
   "display_name": "Python 3",
   "language": "python",
   "name": "python3"
  },
  "language_info": {
   "codemirror_mode": {
    "name": "ipython",
    "version": 3
   },
   "file_extension": ".py",
   "mimetype": "text/x-python",
   "name": "python",
   "nbconvert_exporter": "python",
   "pygments_lexer": "ipython3",
   "version": "3.6.6"
  }
 },
 "nbformat": 4,
 "nbformat_minor": 2
}
