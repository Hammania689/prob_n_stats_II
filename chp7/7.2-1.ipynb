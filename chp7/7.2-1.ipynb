{
 "cells": [
  {
   "cell_type": "markdown",
   "metadata": {},
   "source": [
    "![alt text](images/7.2-1.1.png)\n",
    "![alt text](images/7.2-1.2.png)"
   ]
  },
  {
   "cell_type": "code",
   "execution_count": 6,
   "metadata": {},
   "outputs": [],
   "source": [
    "from helper import * \n",
    "\n",
    "xBar = 937.4\n",
    "yBar = 988.9\n",
    "xSig = 784\n",
    "ySig = 627\n",
    "n = 56\n",
    "m = 57"
   ]
  },
  {
   "cell_type": "markdown",
   "metadata": {},
   "source": [
    "# Given that both X and Y are idependent: <br/> $X - Y = N(\\mu_{X} - \\mu_{Y}, \\sigma_{X} + \\sigma_{Y})$ \n",
    "# Also : <br/>$\\bar{X} = N(\\mu_{\\bar{X}},\\frac{\\sigma_{\\bar{X}}}n) \\\\ \\bar{Y} = N(\\mu_{\\bar{Y}},\\frac{\\sigma_{\\bar{Y}}}n)$\n",
    "# This is also true: $\\bar{X} - \\bar{Y} = N(\\mu_{\\bar{X}} - \\mu_{\\bar{Y}},\\frac{\\sigma_{\\bar{X}}}n + \\frac{\\sigma_{\\bar{Y}}}m)$\n",
    "\n",
    "# Give all that\n",
    "# $ 1 - \\alpha = P(-Z_{\\alpha/2} \\leqq \\frac{(\\bar{X} - \\bar{Y}) - (\\mu_x - \\mu_y)}{\\sqrt{\\frac{\\sigma_x^2}n + \\frac{\\sigma_y^2}m}} \\leqq Z_{\\alpha/2})$  $P((\\bar{X} - \\bar{Y}) -Z_{\\alpha/2}\\sqrt{\\frac{\\sigma_x^2}n + \\frac{\\sigma_y^2}m} \\leqq \\mu_x - \\mu_y \\leqq (\\bar{X} - \\bar{Y}) + Z_{\\alpha/2}\\sqrt{\\frac{\\sigma_x^2}n + \\frac{\\sigma_y^2}m}) $"
   ]
  },
  {
   "cell_type": "code",
   "execution_count": 11,
   "metadata": {},
   "outputs": [
    {
     "data": {
      "text/plain": [
       "(-59.72426813475736, -43.27573186524264)"
      ]
     },
     "execution_count": 11,
     "metadata": {},
     "output_type": "execute_result"
    }
   ],
   "source": [
    "confInterval = (1 + .9) / 2.0 \n",
    "zScore = scipy.stats.norm.ppf(confInterval)\n",
    "\n",
    "lowerBound = (xBar - yBar) - zScore*(((xSig/n)+(ySig/m)) **.5)\n",
    "upperBound = (xBar - yBar) + zScore*(((xSig/n)+(ySig/m)) **.5)\n",
    "lowerBound, upperBound"
   ]
  }
 ],
 "metadata": {
  "kernelspec": {
   "display_name": "Python 3",
   "language": "python",
   "name": "python3"
  },
  "language_info": {
   "codemirror_mode": {
    "name": "ipython",
    "version": 3
   },
   "file_extension": ".py",
   "mimetype": "text/x-python",
   "name": "python",
   "nbconvert_exporter": "python",
   "pygments_lexer": "ipython3",
   "version": "3.6.6"
  }
 },
 "nbformat": 4,
 "nbformat_minor": 2
}
