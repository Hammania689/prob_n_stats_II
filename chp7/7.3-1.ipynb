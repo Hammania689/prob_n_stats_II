{
 "cells": [
  {
   "cell_type": "markdown",
   "metadata": {},
   "source": [
    "![alt text](images/7.3-1.1.png)\n",
    "![alt text](images/7.3-1.2.png)"
   ]
  },
  {
   "cell_type": "code",
   "execution_count": 1,
   "metadata": {},
   "outputs": [],
   "source": [
    "from helper import *"
   ]
  },
  {
   "cell_type": "markdown",
   "metadata": {},
   "source": [
    "# $\\LARGE A)\\ Find\\ \\widehat{p} = \\frac{Y}n $"
   ]
  },
  {
   "cell_type": "code",
   "execution_count": 2,
   "metadata": {},
   "outputs": [
    {
     "data": {
      "text/plain": [
       "0.037383177570093455"
      ]
     },
     "execution_count": 2,
     "metadata": {},
     "output_type": "execute_result"
    }
   ],
   "source": [
    "y = 24.0\n",
    "n = 642.0\n",
    "p = y / n\n",
    "p"
   ]
  },
  {
   "cell_type": "markdown",
   "metadata": {},
   "source": [
    "# $ \\LARGE B) Find \\  p \\pm z_{\\frac{\\alpha}2}\\sqrt{\\frac{\\widehat{p}(1-\\widehat{p})}n} \\\\ = \\LARGE \\frac{Y}n \\pm z_{\\frac{\\alpha}2}{\\sqrt{\\frac{ (\\frac{y}n) (1 - \\frac{y}n) }n} }$ "
   ]
  },
  {
   "cell_type": "code",
   "execution_count": 3,
   "metadata": {},
   "outputs": [
    {
     "data": {
      "text/plain": [
       "(0.02270928256369715, 0.05205707257648976)"
      ]
     },
     "execution_count": 3,
     "metadata": {},
     "output_type": "execute_result"
    }
   ],
   "source": [
    "prop_conf_interval(p, n, .95)"
   ]
  },
  {
   "cell_type": "code",
   "execution_count": 4,
   "metadata": {},
   "outputs": [
    {
     "data": {
      "text/plain": [
       "[0.0227, 0.0521]"
      ]
     },
     "execution_count": 4,
     "metadata": {},
     "output_type": "execute_result"
    }
   ],
   "source": [
    "[0.0227, 0.0521]"
   ]
  },
  {
   "cell_type": "markdown",
   "metadata": {},
   "source": [
    "# $ C) Find\\ \\LARGE H(p) = \\frac{\\widehat{p} + \\frac{z^2_0}{2n} \\pm z_0 \\sqrt{\\frac{\\widehat{p}(1-\\widehat{p})}n + \\frac{z^2_0}{(4n)^2}}}{1 + \\frac{z_0^2}n} $"
   ]
  },
  {
   "cell_type": "code",
   "execution_count": 5,
   "metadata": {},
   "outputs": [
    {
     "data": {
      "text/plain": [
       "(0.025472604879015828, 0.05479703113251644)"
      ]
     },
     "execution_count": 5,
     "metadata": {},
     "output_type": "execute_result"
    }
   ],
   "source": [
    "histogram_prop_conf_interval(p, n, 0.95)"
   ]
  },
  {
   "cell_type": "code",
   "execution_count": 6,
   "metadata": {},
   "outputs": [
    {
     "data": {
      "text/plain": [
       "[0.0252, 0.055]"
      ]
     },
     "execution_count": 6,
     "metadata": {},
     "output_type": "execute_result"
    }
   ],
   "source": [
    "[0.0252, 0.0550]"
   ]
  },
  {
   "cell_type": "markdown",
   "metadata": {},
   "source": [
    "\n",
    "# $ \\LARGE D)\\ Find\\  \\widetilde{p} = \\frac{(Y + 2)}{(n+4)} and\\ \\widetilde{p} \\pm Z_{\\frac{\\alpha}2}\\sqrt{\\frac{\\widetilde{p}(1-\\widetilde{p})}{(n+4)}}  $"
   ]
  },
  {
   "cell_type": "code",
   "execution_count": 7,
   "metadata": {},
   "outputs": [
    {
     "data": {
      "text/plain": [
       "(0.02509177447073281, 0.05540358156641889)"
      ]
     },
     "execution_count": 7,
     "metadata": {},
     "output_type": "execute_result"
    }
   ],
   "source": [
    "biased_conf_interval(y, n, .95)"
   ]
  },
  {
   "cell_type": "code",
   "execution_count": 8,
   "metadata": {},
   "outputs": [
    {
     "data": {
      "text/plain": [
       "[0.0251, 0.0554]"
      ]
     },
     "execution_count": 8,
     "metadata": {},
     "output_type": "execute_result"
    }
   ],
   "source": [
    "[0.0251, 0.0554]"
   ]
  },
  {
   "cell_type": "markdown",
   "metadata": {},
   "source": [
    "# $E)$ Find a one-sided $95\\%$ confidence interval for p that provides an upperbound for p"
   ]
  },
  {
   "cell_type": "markdown",
   "metadata": {},
   "source": [
    "# $ \\LARGE UpperBound\\ = p + z_{\\alpha}\\sqrt{\\frac{\\widehat{p}(1-\\widehat{p})}n}  $"
   ]
  },
  {
   "cell_type": "code",
   "execution_count": 20,
   "metadata": {},
   "outputs": [],
   "source": [
    "def prop_one_side_conf_interval(p, n, confidence, side=1):\n",
    "    \"\"\"\n",
    "    p: point estimate of probability of success\n",
    "    n: number of total trails\n",
    "    confidence: degree of confidence interval contains mean of total distirbution  \n",
    "    side: determines if the upper/lower bound is returned (e.g side < 0 = lower | side > 0 = upper)\n",
    "    \n",
    "    Return: One-side porpotional confidence interval \n",
    "    \"\"\"\n",
    "    \n",
    "    try:\n",
    "        if confidence > 1:\n",
    "            confidence = confidence / 100.0\n",
    "            print(f\"Converting confidence interval to {confidence}\")\n",
    "\n",
    "        elif type(confidence) != int and type(confidence) != float:\n",
    "            raise ValueError(\"Confidence Interval must be a numeric value\")\n",
    "\n",
    "        z = scipy.stats.norm.ppf(confidence)\n",
    "        \n",
    "        if side < 0:\n",
    "            print(\"One-sided Lower boundary:\")\n",
    "            return p - z * ((p * (1-p)) / n) ** .5\n",
    "        print(\"One-sided Upper boundary:\")\n",
    "        return p + z * ((p * (1-p)) / n) ** .5\n",
    "    \n",
    "    except ValueError as inst:\n",
    "        print (inst.args[0])\n",
    "        print(type(confidence))\n",
    "    except:\n",
    "        print (\"Unexpected error:\", sys.exc_info()[0])\n",
    "        raise"
   ]
  },
  {
   "cell_type": "code",
   "execution_count": 22,
   "metadata": {},
   "outputs": [
    {
     "name": "stdout",
     "output_type": "stream",
     "text": [
      "One-sided Upper boundary:\n"
     ]
    },
    {
     "data": {
      "text/plain": [
       "0.049697898459436826"
      ]
     },
     "execution_count": 22,
     "metadata": {},
     "output_type": "execute_result"
    }
   ],
   "source": [
    "prop_one_side_conf_interval(p, n, .95)"
   ]
  }
 ],
 "metadata": {
  "kernelspec": {
   "display_name": "Python 3",
   "language": "python",
   "name": "python3"
  },
  "language_info": {
   "codemirror_mode": {
    "name": "ipython",
    "version": 3
   },
   "file_extension": ".py",
   "mimetype": "text/x-python",
   "name": "python",
   "nbconvert_exporter": "python",
   "pygments_lexer": "ipython3",
   "version": "3.7.1"
  }
 },
 "nbformat": 4,
 "nbformat_minor": 2
}
