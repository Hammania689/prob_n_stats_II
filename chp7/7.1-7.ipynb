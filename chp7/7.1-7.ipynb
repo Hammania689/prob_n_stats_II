{
 "cells": [
  {
   "cell_type": "markdown",
   "metadata": {},
   "source": [
    "![alt text](images/7.1-7.png)"
   ]
  },
  {
   "cell_type": "code",
   "execution_count": 1,
   "metadata": {},
   "outputs": [],
   "source": [
    "from helper import *"
   ]
  },
  {
   "cell_type": "code",
   "execution_count": 2,
   "metadata": {},
   "outputs": [
    {
     "name": "stdout",
     "output_type": "stream",
     "text": [
      "Loaded E7_1-07.txt sucessfully.\n",
      "[21.5  18.95 18.55 19.4  19.15 22.35 22.9  22.2  23.1 ]\n"
     ]
    }
   ],
   "source": [
    "samples = load_sample_data(7, 1, 7,display=True)"
   ]
  },
  {
   "cell_type": "code",
   "execution_count": 3,
   "metadata": {},
   "outputs": [
    {
     "data": {
      "text/plain": [
       "(20.9, 1.8584267540045805)"
      ]
     },
     "execution_count": 3,
     "metadata": {},
     "output_type": "execute_result"
    }
   ],
   "source": [
    "xBar = sample_mean(samples)\n",
    "s = sample_variance(samples) **.5\n",
    "xBar,s"
   ]
  },
  {
   "cell_type": "code",
   "execution_count": 4,
   "metadata": {},
   "outputs": [
    {
     "name": "stdout",
     "output_type": "stream",
     "text": [
      "T Score at 0.95 confidence: 2.3060041350333704\n",
      "Mean is within range 19.47148674020293, 22.328513259797067 with 0.95 confidence!\n"
     ]
    },
    {
     "data": {
      "text/plain": [
       "(19.47148674020293, 22.328513259797067)"
      ]
     },
     "execution_count": 4,
     "metadata": {},
     "output_type": "execute_result"
    }
   ],
   "source": [
    "t_score_lookup(samples, .95, xBar, s, display=True)"
   ]
  }
 ],
 "metadata": {
  "kernelspec": {
   "display_name": "Python 3",
   "language": "python",
   "name": "python3"
  },
  "language_info": {
   "codemirror_mode": {
    "name": "ipython",
    "version": 3
   },
   "file_extension": ".py",
   "mimetype": "text/x-python",
   "name": "python",
   "nbconvert_exporter": "python",
   "pygments_lexer": "ipython3",
   "version": "3.6.6"
  }
 },
 "nbformat": 4,
 "nbformat_minor": 2
}
