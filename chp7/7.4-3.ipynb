{
 "cells": [
  {
   "cell_type": "markdown",
   "metadata": {},
   "source": [
    "![alt text](images/7.4-3.png)"
   ]
  },
  {
   "cell_type": "code",
   "execution_count": 1,
   "metadata": {},
   "outputs": [],
   "source": [
    "from helper import *"
   ]
  },
  {
   "cell_type": "markdown",
   "metadata": {},
   "source": [
    "# $A)$ How large of a sample is need so that the maximum error of the estimate of the new $\\mu$ is $\\epsilon = 0.001$ with $90\\%$ confidence?"
   ]
  },
  {
   "cell_type": "markdown",
   "metadata": {},
   "source": [
    "# $ \\LARGE \\epsilon = \\frac{Z_{\\frac{\\alpha}2}\\sigma}{\\sqrt{n}} \\\\ Therefore\\ \\ldots \\\\ \\LARGE n = \\frac{Z^2_{\\frac{\\alpha}2}\\sigma^2}{\\epsilon^2}  $"
   ]
  },
  {
   "cell_type": "code",
   "execution_count": 2,
   "metadata": {},
   "outputs": [
    {
     "name": "stdout",
     "output_type": "stream",
     "text": [
      "Converting confidence interval to 0.9\n",
      "Finding number of samples needed given\n",
      "================================\n",
      "Variance: 0.0004, Epsilon0.0010, with 0.9% of confidence.\n",
      "N = 1082.2173816381653 ≈ 1083 samples needed\n"
     ]
    },
    {
     "data": {
      "text/plain": [
       "1083"
      ]
     },
     "execution_count": 2,
     "metadata": {},
     "output_type": "execute_result"
    }
   ],
   "source": [
    "variance = 0.02 ** 2\n",
    "epsilon = 0.001\n",
    "confidence = 90\n",
    "\n",
    "maximum_error_estimate(variance, epsilon, confidence)"
   ]
  },
  {
   "cell_type": "markdown",
   "metadata": {},
   "source": [
    "# $B)$ A random sample of size $n = 1219$ yielded $\\bar{x} = 6.048$ and $s = 0.022$ Calculate a $90\\%$ interval for $\\mu$. \n",
    "\n",
    "# $\\LARGE \\bar{x} \\pm  \\frac{Z_{\\frac{\\alpha}2}\\sigma}{\\sqrt{n}} \\\\ \\LARGE \\bar{x} \\pm \\epsilon$"
   ]
  },
  {
   "cell_type": "code",
   "execution_count": 10,
   "metadata": {},
   "outputs": [
    {
     "name": "stdout",
     "output_type": "stream",
     "text": [
      "Converting confidence interval to 0.9\n",
      "\n",
      "Sample Distribution details\n",
      "================================\n",
      "Variance: 0.0005, Epsilon: 0.0010, N: 1219 \n",
      "\n",
      "Total Distribution Expected Value with 90.0% confidence\n",
      "================================\n",
      "[6.047, 6.049]\n"
     ]
    }
   ],
   "source": [
    "std = 0.022\n",
    "n = 1219\n",
    "z = scipy.stats.norm.ppf((1 + confidence)/2.0)\n",
    "x = 6.048\n",
    "\n",
    "low, high = maximum_error_conf_interval(x, std**2, n, 90)"
   ]
  },
  {
   "cell_type": "markdown",
   "metadata": {},
   "source": [
    "# $C)$ Estimate expected savings with new adjustments"
   ]
  },
  {
   "cell_type": "code",
   "execution_count": 4,
   "metadata": {},
   "outputs": [
    {
     "data": {
      "text/plain": [
       "58800.0"
      ]
     },
     "execution_count": 4,
     "metadata": {},
     "output_type": "execute_result"
    }
   ],
   "source": [
    "current = 6.09\n",
    "newLow, newHigh = ((current - low) / .01) * 14000, ((current - high) / .01) * 14000\n",
    "expectedSavings = round((newLow + newHigh) / 2)\n",
    "expectedSavings"
   ]
  },
  {
   "cell_type": "markdown",
   "metadata": {},
   "source": [
    "# $D)$ Estimate the proportion of boxes that will wiegh less than $6$ pounds."
   ]
  },
  {
   "cell_type": "markdown",
   "metadata": {},
   "source": [
    "# $ \\LARGE P( \\bar{x} < 6) \\\\ \\LARGE P( \\frac{\\bar{x} - \\mu}\\sigma < \\frac{6 - \\mu}\\sigma) \\\\ \\LARGE  P( Z < \\frac{6 - 6.048}{0.022}) \\\\ \\LARGE  P(Z < -.218181818)$"
   ]
  },
  {
   "cell_type": "code",
   "execution_count": 13,
   "metadata": {},
   "outputs": [
    {
     "data": {
      "text/plain": [
       "0.014561477076192438"
      ]
     },
     "execution_count": 13,
     "metadata": {},
     "output_type": "execute_result"
    }
   ],
   "source": [
    "d = (6 - x) / std\n",
    "z = scipy.stats.norm.cdf(d)\n",
    "z"
   ]
  }
 ],
 "metadata": {
  "kernelspec": {
   "display_name": "Python 3",
   "language": "python",
   "name": "python3"
  },
  "language_info": {
   "codemirror_mode": {
    "name": "ipython",
    "version": 3
   },
   "file_extension": ".py",
   "mimetype": "text/x-python",
   "name": "python",
   "nbconvert_exporter": "python",
   "pygments_lexer": "ipython3",
   "version": "3.6.6"
  }
 },
 "nbformat": 4,
 "nbformat_minor": 2
}
