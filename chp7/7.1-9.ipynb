{
 "cells": [
  {
   "cell_type": "markdown",
   "metadata": {},
   "source": [
    "![alt text](images/7.1-9.png)"
   ]
  },
  {
   "cell_type": "code",
   "execution_count": 1,
   "metadata": {},
   "outputs": [],
   "source": [
    "from helper import *"
   ]
  },
  {
   "cell_type": "code",
   "execution_count": 2,
   "metadata": {},
   "outputs": [],
   "source": [
    "xBar = 21.45\n",
    "s = 0.31"
   ]
  },
  {
   "cell_type": "markdown",
   "metadata": {},
   "source": [
    "## $\\bar{x} = 21.45g $\n",
    "## $s = .031g$"
   ]
  },
  {
   "cell_type": "code",
   "execution_count": 3,
   "metadata": {},
   "outputs": [],
   "source": [
    "t = scipy.stats.t.ppf(.9, 27)\n",
    "x = t * (s / (28 ** .5))"
   ]
  },
  {
   "cell_type": "markdown",
   "metadata": {},
   "source": [
    "# One Sided Confidence Intervals\n",
    "We only care about the lower confidence score\n",
    "\n",
    "## $ \\underline{Pf} \\\\ P(T_{n-1} \\leqq t_{\\alpha}) = 1 - \\alpha \\\\ \\approx P( \\frac{\\bar{X} - \\mu}{\\frac{\\sqrt{n}}s}  \\leqq t_{\\alpha}) = 1 - \\alpha \\\\ \\approx P(\\bar{X} - tf\\frac{\\sqrt{n}}s  \\leqq \\mu) = 1 - alpha $\n",
    "\n",
    "$ t_{1-.90} \\approx 1.3137029080232316 $\n",
    "# $ Lower bound = \\bar{x} - t _{1-\\alpha} (\\frac{\\sigma}{\\sqrt{n}}) \\\\ \\approx 21.45 - 1.3137029080232316(\\frac{.031}{\\sqrt{28}}) \\\\ \\approx 21.45 - 0.07696261923486196 \\\\ \\approx 21.373037380765137 $\n",
    "# $ [ 21.373037380765137, \\infty) $\n"
   ]
  }
 ],
 "metadata": {
  "kernelspec": {
   "display_name": "Python 3",
   "language": "python",
   "name": "python3"
  },
  "language_info": {
   "codemirror_mode": {
    "name": "ipython",
    "version": 3
   },
   "file_extension": ".py",
   "mimetype": "text/x-python",
   "name": "python",
   "nbconvert_exporter": "python",
   "pygments_lexer": "ipython3",
   "version": "3.6.6"
  }
 },
 "nbformat": 4,
 "nbformat_minor": 2
}
