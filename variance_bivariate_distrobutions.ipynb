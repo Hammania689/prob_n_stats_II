{
 "cells": [
  {
   "cell_type": "code",
   "execution_count": 3,
   "metadata": {},
   "outputs": [],
   "source": [
    "import numpy as np"
   ]
  },
  {
   "cell_type": "code",
   "execution_count": 4,
   "metadata": {},
   "outputs": [],
   "source": [
    "# Random Variables and all their possible values\n",
    "y = np.arange(1, 5)\n",
    "x = np.arange(1, 3)"
   ]
  },
  {
   "cell_type": "code",
   "execution_count": 90,
   "metadata": {},
   "outputs": [
    {
     "name": "stdout",
     "output_type": "stream",
     "text": [
      "Expected value of [1 2 3 4] : 2.8125\n",
      "P(X=1)= 0.15625\n",
      "\tP(1,1): 0.0625. Variance at (1,1): 1.181640625\n",
      "\tP(1,2): 0.09375. Variance at (1,2): 1.154937744140625\n",
      "P(X=2)= 0.21875\n",
      "\tP(2,1): 0.09375. Variance at (2,1): 1.616912841796875\n",
      "\tP(2,2): 0.125. Variance at (2,2): 1.5799560546875\n",
      "P(X=3)= 0.28125\n",
      "\tP(3,1): 0.125. Variance at (3,1): 2.0313720703125\n",
      "\tP(3,2): 0.15625. Variance at (3,2): 1.984405517578125\n",
      "P(X=4)= 0.34375\n",
      "\tP(4,1): 0.15625. Variance at (4,1): 2.425384521484375\n",
      "\tP(4,2): 0.1875. Variance at (4,2): 2.36865234375\n",
      "Variance : 14.34326171875\n",
      "14.34326171875\n"
     ]
    }
   ],
   "source": [
    "# The probability mass function of this distrubition\n",
    "def pmf(i, j):\n",
    "    return (i + j) / 32\n",
    "\n",
    "def prob_of(x, y):\n",
    "    \"\"\"\n",
    "    x : is a single value\n",
    "    y : is a array of all possible values other random function can take on\n",
    "    \n",
    "    returns: The Total probablity of X occuring (The total sum of X=x and Y= all possible values)\n",
    "    \"\"\"\n",
    "    # Initial probability\n",
    "    prob = 0\n",
    "    \n",
    "    # Find probabily of X=x and all of Y's possible discrete random values\n",
    "    for i in np.nditer(y):\n",
    "        prob += pmf(x, i)\n",
    "    return prob\n",
    "\n",
    "def mean(x, y):\n",
    "    \"\"\"\n",
    "    x : all possible discrete random variables of X. **Random Variable of Interest**\n",
    "    y : all possible discrete random variables of Y.\n",
    "    \n",
    "    ** To get the Expected value of Y. Swap the placement of parameters when you call this function\n",
    "    \n",
    "    \n",
    "    returns : Expected Value of random variable X\n",
    "    \"\"\"\n",
    "    total_mean = 0\n",
    "    \n",
    "    for i in np.nditer(x):\n",
    "        for j in np.nditer(y):\n",
    "            # Print current index\n",
    "#             print(f\"Expected Value at: {i}, {j}\") \n",
    "            \n",
    "            # Pmf for current x and y variables\n",
    "            local_pmf = pmf(i , j)\n",
    "            \n",
    "            # Calculate expected value\n",
    "            # Add to current index's expected value to total\n",
    "            expected_val = i * local_pmf\n",
    "#             print(expected_val)\n",
    "            total_mean += expected_val\n",
    "    print (f\"Expected value of {x} : {total_mean}\")\n",
    "    return total_mean\n",
    "\n",
    "def var(x, y):\n",
    "    total_var = 0\n",
    "    expected_val = mean(x, y)\n",
    "        \n",
    "    for i in np.nditer(x):\n",
    "        # Find the total probability of event P(X=i) occurring\n",
    "        prob_i = prob_of(i, y)\n",
    "        print(f\"P(X={i})= {prob_i}\")\n",
    "        \n",
    "        for j in np.nditer(y):\n",
    "            \n",
    "            # Pmf for current x and y variables\n",
    "            local_pmf = pmf(i , j)\n",
    "            \n",
    "            # Calculate variance\n",
    "            # Add to total var\n",
    "            var = prob_i * ((local_pmf - expected_val) ** 2)\n",
    "            total_var += var\n",
    "            # Print current index and relevant output\n",
    "            print(f\"\\tP({i},{j}): {local_pmf}. Variance at ({i},{j}): {var}\") \n",
    "\n",
    "    print(f\"Variance : {total_var}\")\n",
    "    return total_var\n",
    "    \n",
    "print(var(y,x))\n",
    "# print(mean(y,x))\n"
   ]
  }
 ],
 "metadata": {
  "kernelspec": {
   "display_name": "Python 3",
   "language": "python",
   "name": "python3"
  },
  "language_info": {
   "codemirror_mode": {
    "name": "ipython",
    "version": 3
   },
   "file_extension": ".py",
   "mimetype": "text/x-python",
   "name": "python",
   "nbconvert_exporter": "python",
   "pygments_lexer": "ipython3",
   "version": "3.7.0"
  }
 },
 "nbformat": 4,
 "nbformat_minor": 2
}
